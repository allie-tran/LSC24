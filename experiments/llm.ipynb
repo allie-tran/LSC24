{
  "cells": [
    {
      "cell_type": "code",
      "metadata": {
        "jukit_cell_id": "ncdWWwxOEY"
      },
      "source": [
        "# auto-reload\n",
        "\n",
        "# %load_ext autoreload\n",
        "# %autoreload 2\n",
        "\n",
        "import asyncio\n",
        "import json\n",
        "import os\n",
        "from typing import List, Optional, Union\n",
        "\n",
        "import requests\n",
        "from datasets import load_dataset\n",
        "from dotenv import load_dotenv\n",
        "from openai import AsyncOpenAI\n",
        "from openai.types.chat import (\n",
        "    ChatCompletionMessageParam,\n",
        "    ChatCompletionSystemMessageParam,\n",
        "    ChatCompletionUserMessageParam,\n",
        ")\n",
        "from partialjson.json_parser import JSONParser\n",
        "from pydantic import BaseModel\n",
        "from rich import print"
      ],
      "outputs": [],
      "execution_count": null
    },
    {
      "cell_type": "markdown",
      "metadata": {
        "jukit_cell_id": "wpPH2fUB2F"
      },
      "source": [
        "# Load OpenAI API key and model name\n",
        "Specify the OpenAI API key and model name to use for the completion in your '.env' file or your environment variables.\n",
        "This makes use of the asynchronous OpenAI API client to generate completions."
      ]
    },
    {
      "cell_type": "code",
      "metadata": {
        "jukit_cell_id": "cE58yjx8NV"
      },
      "source": [
        "load_dotenv()\n",
        "\n",
        "# Set up ChatGPT generation model\n",
        "OPENAI_API = os.environ.get(\"OPENAI_API\", \"\")\n",
        "MODEL_NAME = os.environ.get(\"MODEL_NAME\", \"\")\n",
        "\n",
        "\n",
        "class LLM:\n",
        "    def __init__(self):\n",
        "        self.client = AsyncOpenAI(api_key=OPENAI_API)\n",
        "\n",
        "    async def generate(self, messages: List[ChatCompletionMessageParam]):\n",
        "        request = await self.client.chat.completions.create(\n",
        "            model=MODEL_NAME, messages=messages, stream=True\n",
        "        )  # type: ignore\n",
        "        async for chunk in request:\n",
        "            if chunk.choices[0].delta.content is not None:\n",
        "                yield chunk.choices[0].delta.content\n",
        "\n",
        "    def get_template_messages(self) -> List[ChatCompletionMessageParam]:\n",
        "        message = ChatCompletionSystemMessageParam(\n",
        "            role=\"system\",\n",
        "            content=\"You are a helpful assistant to help me answer questions in a lifelog dataset. I will give you information and the system constraints and you will suggest me how to do it.\",\n",
        "        )\n",
        "        return [message]"
      ],
      "outputs": [],
      "execution_count": null
    },
    {
      "cell_type": "markdown",
      "metadata": {
        "jukit_cell_id": "EESjIjWFya"
      },
      "source": [
        "# Creating a prompt for the user to provide the necessary parameters for the lifelog retrieval system\n",
        "This is an experimental idea that involves the LLM to set certain parameters for a question answering pipeline. All the parameters CAN be adjusted in the interface. This is just a suggestion."
      ]
    },
    {
      "cell_type": "code",
      "metadata": {
        "jukit_cell_id": "gydPjH7UlF"
      },
      "source": [
        "# This is still very long!!! TODO!\n",
        "prompt = \"\"\"I need to find the answer for this question using my lifelog retrieval system. In my system, a flow of processes is needed:\n",
        "1. Segmentation: this function takes two parameters: max_time, time_gap, and loc_change, where max_time is the maximum time for each segment, time_gap is the maximum time gap between two segments, and loc_change is the type of location change (semantic_location, city, country, continent). The function returns a list of segments, where each segment is a list of events.\n",
        "2. Retrieval: this function takes a list of segments and a question. It returns a list of events that are relevant to the question. The function takes the top-K events that are relevant to the question.\n",
        "3. Extraction: this function takes a list of events and a question. It returns the answer to the question. The function extracts the information from the events to answer the question.\n",
        "4. Answering: this function takes the answer and the question. It returns the answer to the question.\n",
        "5. Post-processing: re-organize the events (merge, split, or filter) and the answer to the question. Events with the same answers can be grouped together (if it makes sense).\n",
        "\n",
        "For example, if the question is \"What is my favourite airlines to fly with in 2019?\", this is what I'm looking for:\n",
        "- Segmentation: max_time=1 day, time_gap=1 day, loc_change=city\n",
        "- Retrieval: query=\"airlines name on boarding pass or brochure', K=50\n",
        "- Extraction: metadata=[\"start_city\", \"end_city\"]\n",
        "- Answering: needs Visual Question Answering=yes, needs OCR=yes, expected answer type=a name, possible answers=[\"Delta\", \"United\", \"American\", \"Southwest\", \"JetBlue\"], sort by time=no\n",
        "- Post-processing: sort=time, group=airlines\n",
        "\n",
        "Now, the question is \"{question}\". I need you to define these paramters:\n",
        "Please provide the following JSON structure:\n",
        "```\n",
        "{{\n",
        "    \"segmentation\": {{\n",
        "        \"max_time\": [a time unit in the following: \"year\", \"month\", \"week\", \"day\", \"hour\"],\n",
        "        \"time_gap\": [in hours],\n",
        "        \"loc_change\": [a location unit,  one of the following: \"country\", \"city\", \"location_name\", \"continent\"]\n",
        "    }},\n",
        "    \"retrieval\": {{\n",
        "        \"search query\": [a search query to find the events],\n",
        "        \"K\": [number of events to retrieve and extract answers from]\n",
        "    }},\n",
        "    \"extraction\": {{\n",
        "        \"metadata\": [a list of metadata to extract from each event, one of the following: \"start_time\", \"end_time\", \"semantic_location\", \"duration\", \"country\", \"city\", \"continent\" that might be useful to answer the question],\n",
        "        \"needs Visual Question Answering\": [true/false],\n",
        "        \"needs OCR\": [true/false],\n",
        "    }},\n",
        "    \"answering\": {{\n",
        "        \"expected answer type\": \"explanation of what the answer should look like\",\n",
        "        \"possible answers\": [a list of possible answers]\n",
        "        }},\n",
        "    \"post-processing\": {{\n",
        "        \"group\": [a way to group the events, one of the following: any time unit, any location unit, \"answer\"],\n",
        "        \"sort\": [a way to sort the events, one of the following: any time unit, any location_unit, \"most_common_answer\"]\n",
        "        \"aggregate\": [a way to aggregate the events, one of the following: \"sum\", \"average, \"max\", \"min\"]\n",
        "        }}\n",
        "}}\n",
        "No explanation is needed. Just provide the JSON structure.\n",
        "```\n",
        "\"\"\""
      ],
      "outputs": [],
      "execution_count": null
    },
    {
      "cell_type": "markdown",
      "metadata": {
        "jukit_cell_id": "LylJhTd6o5"
      },
      "source": [
        "# Test the LLM prompt with a question\n",
        "Some questions are very straightforward and can be answered with a simple query. Others require more complex processing. This is a test to see how the LLM can help with the process."
      ]
    },
    {
      "cell_type": "code",
      "metadata": {
        "jukit_cell_id": "LKWdSuWDGV"
      },
      "source": [
        "# Load the model and JSON parser\n",
        "llm = LLM()\n",
        "parser = JSONParser()\n",
        "\n",
        "\n",
        "# Async function to generate completions\n",
        "async def generate(messages: List[ChatCompletionMessageParam]):\n",
        "    PROMPT_START_FLAG = \"```json\"\n",
        "    text = \"\"\n",
        "    async for response in llm.generate(messages):\n",
        "        text += response\n",
        "        if PROMPT_START_FLAG in text:\n",
        "            try:\n",
        "                parameters = parser.parse(text.split(PROMPT_START_FLAG)[1])\n",
        "                yield parameters\n",
        "            except Exception:\n",
        "                continue\n",
        "\n",
        "\n",
        "# Get the completion\n",
        "async def get_recommendation(question: str):\n",
        "    formatted_prompt = prompt.format(question=question)\n",
        "    messages = llm.get_template_messages()\n",
        "    messages.append(\n",
        "        ChatCompletionUserMessageParam(role=\"user\", content=formatted_prompt)\n",
        "    )\n",
        "    parameters = {}\n",
        "    async for parameters in generate(messages):\n",
        "        print(end=\"\\033c\", flush=True)\n",
        "        print(json.dumps(parameters))\n",
        "    return parameters\n",
        "\n",
        "\n",
        "# Run the function\n",
        "question = \"How many pints of Guinness are consumed on St. Patrick's Day in 2023?\"\n",
        "asyncio.run(get_recommendation(question))\n",
        "print()"
      ],
      "outputs": [
        {
          "output_type": "stream",
          "name": "stdout",
          "text": "\u001bc{}\n\u001bc{}\n\u001bc{}\n\u001bc{\"\": null}\n\u001bc{\"segment\": null}\n\u001bc{\"segmentation\": null}\n\u001bc{\"segmentation\": null}\n\u001bc{\"segmentation\": {}}\n\u001bc{\"segmentation\": {}}\n\u001bc{\"segmentation\": {\"\": null}}\n\u001bc{\"segmentation\": {\"max\": null}}\n\u001bc{\"segmentation\": {\"max_time\": null}}\n\u001bc{\"segmentation\": {\"max_time\": null}}\n\u001bc{\"segmentation\": {\"max_time\": \"\"}}\n\u001bc{\"segmentation\": {\"max_time\": \"day\"}}\n\u001bc{\"segmentation\": {\"max_time\": \"day\"}}\n\u001bc{\"segmentation\": {\"max_time\": \"day\"}}\n\u001bc{\"segmentation\": {\"max_time\": \"day\", \"\": null}}\n\u001bc{\"segmentation\": {\"max_time\": \"day\", \"time\": null}}\n\u001bc{\"segmentation\": {\"max_time\": \"day\", \"time_gap\": null}}\n\u001bc{\"segmentation\": {\"max_time\": \"day\", \"time_gap\": null}}\n\u001bc{\"segmentation\": {\"max_time\": \"day\", \"time_gap\": null}}\n\u001bc{\"segmentation\": {\"max_time\": \"day\", \"time_gap\": 24}}\n\u001bc{\"segmentation\": {\"max_time\": \"day\", \"time_gap\": 24}}\n\u001bc{\"segmentation\": {\"max_time\": \"day\", \"time_gap\": 24}}\n\u001bc{\"segmentation\": {\"max_time\": \"day\", \"time_gap\": 24, \"\": null}}\n\u001bc{\"segmentation\": {\"max_time\": \"day\", \"time_gap\": 24, \"loc\": null}}\n\u001bc{\"segmentation\": {\"max_time\": \"day\", \"time_gap\": 24, \"loc_change\": null}}\n\u001bc{\"segmentation\": {\"max_time\": \"day\", \"time_gap\": 24, \"loc_change\": null}}\n\u001bc{\"segmentation\": {\"max_time\": \"day\", \"time_gap\": 24, \"loc_change\": \"\"}}\n\u001bc{\"segmentation\": {\"max_time\": \"day\", \"time_gap\": 24, \"loc_change\": \"location\"}}\n\u001bc{\"segmentation\": {\"max_time\": \"day\", \"time_gap\": 24, \"loc_change\": \"location_name\"}}\n\u001bc{\"segmentation\": {\"max_time\": \"day\", \"time_gap\": 24, \"loc_change\": \"location_name\"}}\n\u001bc{\"segmentation\": {\"max_time\": \"day\", \"time_gap\": 24, \"loc_change\": \"location_name\"}}\n\u001bc{\"segmentation\": {\"max_time\": \"day\", \"time_gap\": 24, \"loc_change\": \"location_name\"}}\n\u001bc{\"segmentation\": {\"max_time\": \"day\", \"time_gap\": 24, \"loc_change\": \"location_name\"}}\n\u001bc{\"segmentation\": {\"max_time\": \"day\", \"time_gap\": 24, \"loc_change\": \"location_name\"}, \"\": null}\n\u001bc{\"segmentation\": {\"max_time\": \"day\", \"time_gap\": 24, \"loc_change\": \"location_name\"}, \"re\": null}\n\u001bc{\"segmentation\": {\"max_time\": \"day\", \"time_gap\": 24, \"loc_change\": \"location_name\"}, \"retrie\": null}\n\u001bc{\"segmentation\": {\"max_time\": \"day\", \"time_gap\": 24, \"loc_change\": \"location_name\"}, \"retrieval\": null}\n\u001bc{\"segmentation\": {\"max_time\": \"day\", \"time_gap\": 24, \"loc_change\": \"location_name\"}, \"retrieval\": null}\n\u001bc{\"segmentation\": {\"max_time\": \"day\", \"time_gap\": 24, \"loc_change\": \"location_name\"}, \"retrieval\": {}}\n\u001bc{\"segmentation\": {\"max_time\": \"day\", \"time_gap\": 24, \"loc_change\": \"location_name\"}, \"retrieval\": {}}\n\u001bc{\"segmentation\": {\"max_time\": \"day\", \"time_gap\": 24, \"loc_change\": \"location_name\"}, \"retrieval\": {\"\": null}}\n\u001bc{\"segmentation\": {\"max_time\": \"day\", \"time_gap\": 24, \"loc_change\": \"location_name\"}, \"retrieval\": {\"search\": null}}\n\u001bc{\"segmentation\": {\"max_time\": \"day\", \"time_gap\": 24, \"loc_change\": \"location_name\"}, \"retrieval\": {\"search query\": null}}\n\u001bc{\"segmentation\": {\"max_time\": \"day\", \"time_gap\": 24, \"loc_change\": \"location_name\"}, \"retrieval\": {\"search query\": null}}\n\u001bc{\"segmentation\": {\"max_time\": \"day\", \"time_gap\": 24, \"loc_change\": \"location_name\"}, \"retrieval\": {\"search query\": \"\"}}\n\u001bc{\"segmentation\": {\"max_time\": \"day\", \"time_gap\": 24, \"loc_change\": \"location_name\"}, \"retrieval\": {\"search query\": \"Gu\"}}\n\u001bc{\"segmentation\": {\"max_time\": \"day\", \"time_gap\": 24, \"loc_change\": \"location_name\"}, \"retrieval\": {\"search query\": \"Guinness\"}}\n\u001bc{\"segmentation\": {\"max_time\": \"day\", \"time_gap\": 24, \"loc_change\": \"location_name\"}, \"retrieval\": {\"search query\": \"Guinness p\"}}\n\u001bc{\"segmentation\": {\"max_time\": \"day\", \"time_gap\": 24, \"loc_change\": \"location_name\"}, \"retrieval\": {\"search query\": \"Guinness pints\"}}\n\u001bc{\"segmentation\": {\"max_time\": \"day\", \"time_gap\": 24, \"loc_change\": \"location_name\"}, \"retrieval\": {\"search query\": \"Guinness pints consumed\"}}\n\u001bc{\"segmentation\": {\"max_time\": \"day\", \"time_gap\": 24, \"loc_change\": \"location_name\"}, \"retrieval\": {\"search query\": \"Guinness pints consumed\"}}\n\u001bc{\"segmentation\": {\"max_time\": \"day\", \"time_gap\": 24, \"loc_change\": \"location_name\"}, \"retrieval\": {\"search query\": \"Guinness pints consumed\"}}\n\u001bc{\"segmentation\": {\"max_time\": \"day\", \"time_gap\": 24, \"loc_change\": \"location_name\"}, \"retrieval\": {\"search query\": \"Guinness pints consumed\", \"\": null}}\n\u001bc{\"segmentation\": {\"max_time\": \"day\", \"time_gap\": 24, \"loc_change\": \"location_name\"}, \"retrieval\": {\"search query\": \"Guinness pints consumed\", \"K\": null}}\n\u001bc{\"segmentation\": {\"max_time\": \"day\", \"time_gap\": 24, \"loc_change\": \"location_name\"}, \"retrieval\": {\"search query\": \"Guinness pints consumed\", \"K\": null}}\n\u001bc{\"segmentation\": {\"max_time\": \"day\", \"time_gap\": 24, \"loc_change\": \"location_name\"}, \"retrieval\": {\"search query\": \"Guinness pints consumed\", \"K\": null}}\n\u001bc{\"segmentation\": {\"max_time\": \"day\", \"time_gap\": 24, \"loc_change\": \"location_name\"}, \"retrieval\": {\"search query\": \"Guinness pints consumed\", \"K\": 100}}\n\u001bc{\"segmentation\": {\"max_time\": \"day\", \"time_gap\": 24, \"loc_change\": \"location_name\"}, \"retrieval\": {\"search query\": \"Guinness pints consumed\", \"K\": 100}}\n\u001bc{\"segmentation\": {\"max_time\": \"day\", \"time_gap\": 24, \"loc_change\": \"location_name\"}, \"retrieval\": {\"search query\": \"Guinness pints consumed\", \"K\": 100}}\n\u001bc{\"segmentation\": {\"max_time\": \"day\", \"time_gap\": 24, \"loc_change\": \"location_name\"}, \"retrieval\": {\"search query\": \"Guinness pints consumed\", \"K\": 100}}\n\u001bc{\"segmentation\": {\"max_time\": \"day\", \"time_gap\": 24, \"loc_change\": \"location_name\"}, \"retrieval\": {\"search query\": \"Guinness pints consumed\", \"K\": 100}}\n\u001bc{\"segmentation\": {\"max_time\": \"day\", \"time_gap\": 24, \"loc_change\": \"location_name\"}, \"retrieval\": {\"search query\": \"Guinness pints consumed\", \"K\": 100}, \"\": null}\n\u001bc{\"segmentation\": {\"max_time\": \"day\", \"time_gap\": 24, \"loc_change\": \"location_name\"}, \"retrieval\": {\"search query\": \"Guinness pints consumed\", \"K\": 100}, \"ex\": null}\n\u001bc{\"segmentation\": {\"max_time\": \"day\", \"time_gap\": 24, \"loc_change\": \"location_name\"}, \"retrieval\": {\"search query\": \"Guinness pints consumed\", \"K\": 100}, \"extraction\": null}\n\u001bc{\"segmentation\": {\"max_time\": \"day\", \"time_gap\": 24, \"loc_change\": \"location_name\"}, \"retrieval\": {\"search query\": \"Guinness pints consumed\", \"K\": 100}, \"extraction\": null}\n\u001bc{\"segmentation\": {\"max_time\": \"day\", \"time_gap\": 24, \"loc_change\": \"location_name\"}, \"retrieval\": {\"search query\": \"Guinness pints consumed\", \"K\": 100}, \"extraction\": {}}\n\u001bc{\"segmentation\": {\"max_time\": \"day\", \"time_gap\": 24, \"loc_change\": \"location_name\"}, \"retrieval\": {\"search query\": \"Guinness pints consumed\", \"K\": 100}, \"extraction\": {}}\n\u001bc{\"segmentation\": {\"max_time\": \"day\", \"time_gap\": 24, \"loc_change\": \"location_name\"}, \"retrieval\": {\"search query\": \"Guinness pints consumed\", \"K\": 100}, \"extraction\": {\"\": null}}\n\u001bc{\"segmentation\": {\"max_time\": \"day\", \"time_gap\": 24, \"loc_change\": \"location_name\"}, \"retrieval\": {\"search query\": \"Guinness pints consumed\", \"K\": 100}, \"extraction\": {\"metadata\": null}}\n\u001bc{\"segmentation\": {\"max_time\": \"day\", \"time_gap\": 24, \"loc_change\": \"location_name\"}, \"retrieval\": {\"search query\": \"Guinness pints consumed\", \"K\": 100}, \"extraction\": {\"metadata\": null}}\n\u001bc{\"segmentation\": {\"max_time\": \"day\", \"time_gap\": 24, \"loc_change\": \"location_name\"}, \"retrieval\": {\"search query\": \"Guinness pints consumed\", \"K\": 100}, \"extraction\": {\"metadata\": [\"\"]}}\n\u001bc{\"segmentation\": {\"max_time\": \"day\", \"time_gap\": 24, \"loc_change\": \"location_name\"}, \"retrieval\": {\"search query\": \"Guinness pints consumed\", \"K\": 100}, \"extraction\": {\"metadata\": [\"semantic\"]}}\n\u001bc{\"segmentation\": {\"max_time\": \"day\", \"time_gap\": 24, \"loc_change\": \"location_name\"}, \"retrieval\": {\"search query\": \"Guinness pints consumed\", \"K\": 100}, \"extraction\": {\"metadata\": [\"semantic_location\"]}}\n\u001bc{\"segmentation\": {\"max_time\": \"day\", \"time_gap\": 24, \"loc_change\": \"location_name\"}, \"retrieval\": {\"search query\": \"Guinness pints consumed\", \"K\": 100}, \"extraction\": {\"metadata\": [\"semantic_location\"]}}\n\u001bc{\"segmentation\": {\"max_time\": \"day\", \"time_gap\": 24, \"loc_change\": \"location_name\"}, \"retrieval\": {\"search query\": \"Guinness pints consumed\", \"K\": 100}, \"extraction\": {\"metadata\": [\"semantic_location\"]}}\n\u001bc{\"segmentation\": {\"max_time\": \"day\", \"time_gap\": 24, \"loc_change\": \"location_name\"}, \"retrieval\": {\"search query\": \"Guinness pints consumed\", \"K\": 100}, \"extraction\": {\"metadata\": [\"semantic_location\"], \"\": null}}\n\u001bc{\"segmentation\": {\"max_time\": \"day\", \"time_gap\": 24, \"loc_change\": \"location_name\"}, \"retrieval\": {\"search query\": \"Guinness pints consumed\", \"K\": 100}, \"extraction\": {\"metadata\": [\"semantic_location\"], \"needs\": null}}\n\u001bc{\"segmentation\": {\"max_time\": \"day\", \"time_gap\": 24, \"loc_change\": \"location_name\"}, \"retrieval\": {\"search query\": \"Guinness pints consumed\", \"K\": 100}, \"extraction\": {\"metadata\": [\"semantic_location\"], \"needs Visual\": null}}\n\u001bc{\"segmentation\": {\"max_time\": \"day\", \"time_gap\": 24, \"loc_change\": \"location_name\"}, \"retrieval\": {\"search query\": \"Guinness pints consumed\", \"K\": 100}, \"extraction\": {\"metadata\": [\"semantic_location\"], \"needs Visual Question\": null}}\n\u001bc{\"segmentation\": {\"max_time\": \"day\", \"time_gap\": 24, \"loc_change\": \"location_name\"}, \"retrieval\": {\"search query\": \"Guinness pints consumed\", \"K\": 100}, \"extraction\": {\"metadata\": [\"semantic_location\"], \"needs Visual Question Answer\": null}}\n\u001bc{\"segmentation\": {\"max_time\": \"day\", \"time_gap\": 24, \"loc_change\": \"location_name\"}, \"retrieval\": {\"search query\": \"Guinness pints consumed\", \"K\": 100}, \"extraction\": {\"metadata\": [\"semantic_location\"], \"needs Visual Question Answering\": null}}\n\u001bc{\"segmentation\": {\"max_time\": \"day\", \"time_gap\": 24, \"loc_change\": \"location_name\"}, \"retrieval\": {\"search query\": \"Guinness pints consumed\", \"K\": 100}, \"extraction\": {\"metadata\": [\"semantic_location\"], \"needs Visual Question Answering\": null}}\n\u001bc{\"segmentation\": {\"max_time\": \"day\", \"time_gap\": 24, \"loc_change\": \"location_name\"}, \"retrieval\": {\"search query\": \"Guinness pints consumed\", \"K\": 100}, \"extraction\": {\"metadata\": [\"semantic_location\"], \"needs Visual Question Answering\": false}}\n\u001bc{\"segmentation\": {\"max_time\": \"day\", \"time_gap\": 24, \"loc_change\": \"location_name\"}, \"retrieval\": {\"search query\": \"Guinness pints consumed\", \"K\": 100}, \"extraction\": {\"metadata\": [\"semantic_location\"], \"needs Visual Question Answering\": false}}\n\u001bc{\"segmentation\": {\"max_time\": \"day\", \"time_gap\": 24, \"loc_change\": \"location_name\"}, \"retrieval\": {\"search query\": \"Guinness pints consumed\", \"K\": 100}, \"extraction\": {\"metadata\": [\"semantic_location\"], \"needs Visual Question Answering\": false}}\n\u001bc{\"segmentation\": {\"max_time\": \"day\", \"time_gap\": 24, \"loc_change\": \"location_name\"}, \"retrieval\": {\"search query\": \"Guinness pints consumed\", \"K\": 100}, \"extraction\": {\"metadata\": [\"semantic_location\"], \"needs Visual Question Answering\": false, \"\": null}}\n\u001bc{\"segmentation\": {\"max_time\": \"day\", \"time_gap\": 24, \"loc_change\": \"location_name\"}, \"retrieval\": {\"search query\": \"Guinness pints consumed\", \"K\": 100}, \"extraction\": {\"metadata\": [\"semantic_location\"], \"needs Visual Question Answering\": false, \"needs\": null}}\n\u001bc{\"segmentation\": {\"max_time\": \"day\", \"time_gap\": 24, \"loc_change\": \"location_name\"}, \"retrieval\": {\"search query\": \"Guinness pints consumed\", \"K\": 100}, \"extraction\": {\"metadata\": [\"semantic_location\"], \"needs Visual Question Answering\": false, \"needs OCR\": null}}\n\u001bc{\"segmentation\": {\"max_time\": \"day\", \"time_gap\": 24, \"loc_change\": \"location_name\"}, \"retrieval\": {\"search query\": \"Guinness pints consumed\", \"K\": 100}, \"extraction\": {\"metadata\": [\"semantic_location\"], \"needs Visual Question Answering\": false, \"needs OCR\": null}}\n\u001bc{\"segmentation\": {\"max_time\": \"day\", \"time_gap\": 24, \"loc_change\": \"location_name\"}, \"retrieval\": {\"search query\": \"Guinness pints consumed\", \"K\": 100}, \"extraction\": {\"metadata\": [\"semantic_location\"], \"needs Visual Question Answering\": false, \"needs OCR\": false}}\n\u001bc{\"segmentation\": {\"max_time\": \"day\", \"time_gap\": 24, \"loc_change\": \"location_name\"}, \"retrieval\": {\"search query\": \"Guinness pints consumed\", \"K\": 100}, \"extraction\": {\"metadata\": [\"semantic_location\"], \"needs Visual Question Answering\": false, \"needs OCR\": false}}\n\u001bc{\"segmentation\": {\"max_time\": \"day\", \"time_gap\": 24, \"loc_change\": \"location_name\"}, \"retrieval\": {\"search query\": \"Guinness pints consumed\", \"K\": 100}, \"extraction\": {\"metadata\": [\"semantic_location\"], \"needs Visual Question Answering\": false, \"needs OCR\": false}}\n\u001bc{\"segmentation\": {\"max_time\": \"day\", \"time_gap\": 24, \"loc_change\": \"location_name\"}, \"retrieval\": {\"search query\": \"Guinness pints consumed\", \"K\": 100}, \"extraction\": {\"metadata\": [\"semantic_location\"], \"needs Visual Question Answering\": false, \"needs OCR\": false}}\n\u001bc{\"segmentation\": {\"max_time\": \"day\", \"time_gap\": 24, \"loc_change\": \"location_name\"}, \"retrieval\": {\"search query\": \"Guinness pints consumed\", \"K\": 100}, \"extraction\": {\"metadata\": [\"semantic_location\"], \"needs Visual Question Answering\": false, \"needs OCR\": false}}\n\u001bc{\"segmentation\": {\"max_time\": \"day\", \"time_gap\": 24, \"loc_change\": \"location_name\"}, \"retrieval\": {\"search query\": \"Guinness pints consumed\", \"K\": 100}, \"extraction\": {\"metadata\": [\"semantic_location\"], \"needs Visual Question Answering\": false, \"needs OCR\": false}, \"\": null}\n\u001bc{\"segmentation\": {\"max_time\": \"day\", \"time_gap\": 24, \"loc_change\": \"location_name\"}, \"retrieval\": {\"search query\": \"Guinness pints consumed\", \"K\": 100}, \"extraction\": {\"metadata\": [\"semantic_location\"], \"needs Visual Question Answering\": false, \"needs OCR\": false}, \"ans\": null}\n\u001bc{\"segmentation\": {\"max_time\": \"day\", \"time_gap\": 24, \"loc_change\": \"location_name\"}, \"retrieval\": {\"search query\": \"Guinness pints consumed\", \"K\": 100}, \"extraction\": {\"metadata\": [\"semantic_location\"], \"needs Visual Question Answering\": false, \"needs OCR\": false}, \"answ\": null}\n\u001bc{\"segmentation\": {\"max_time\": \"day\", \"time_gap\": 24, \"loc_change\": \"location_name\"}, \"retrieval\": {\"search query\": \"Guinness pints consumed\", \"K\": 100}, \"extraction\": {\"metadata\": [\"semantic_location\"], \"needs Visual Question Answering\": false, \"needs OCR\": false}, \"answering\": null}\n\u001bc{\"segmentation\": {\"max_time\": \"day\", \"time_gap\": 24, \"loc_change\": \"location_name\"}, \"retrieval\": {\"search query\": \"Guinness pints consumed\", \"K\": 100}, \"extraction\": {\"metadata\": [\"semantic_location\"], \"needs Visual Question Answering\": false, \"needs OCR\": false}, \"answering\": null}\n\u001bc{\"segmentation\": {\"max_time\": \"day\", \"time_gap\": 24, \"loc_change\": \"location_name\"}, \"retrieval\": {\"search query\": \"Guinness pints consumed\", \"K\": 100}, \"extraction\": {\"metadata\": [\"semantic_location\"], \"needs Visual Question Answering\": false, \"needs OCR\": false}, \"answering\": {}}\n\u001bc{\"segmentation\": {\"max_time\": \"day\", \"time_gap\": 24, \"loc_change\": \"location_name\"}, \"retrieval\": {\"search query\": \"Guinness pints consumed\", \"K\": 100}, \"extraction\": {\"metadata\": [\"semantic_location\"], \"needs Visual Question Answering\": false, \"needs OCR\": false}, \"answering\": {}}\n\u001bc{\"segmentation\": {\"max_time\": \"day\", \"time_gap\": 24, \"loc_change\": \"location_name\"}, \"retrieval\": {\"search query\": \"Guinness pints consumed\", \"K\": 100}, \"extraction\": {\"metadata\": [\"semantic_location\"], \"needs Visual Question Answering\": false, \"needs OCR\": false}, \"answering\": {\"\": null}}\n\u001bc{\"segmentation\": {\"max_time\": \"day\", \"time_gap\": 24, \"loc_change\": \"location_name\"}, \"retrieval\": {\"search query\": \"Guinness pints consumed\", \"K\": 100}, \"extraction\": {\"metadata\": [\"semantic_location\"], \"needs Visual Question Answering\": false, \"needs OCR\": false}, \"answering\": {\"expected\": null}}\n\u001bc{\"segmentation\": {\"max_time\": \"day\", \"time_gap\": 24, \"loc_change\": \"location_name\"}, \"retrieval\": {\"search query\": \"Guinness pints consumed\", \"K\": 100}, \"extraction\": {\"metadata\": [\"semantic_location\"], \"needs Visual Question Answering\": false, \"needs OCR\": false}, \"answering\": {\"expected answer\": null}}\n\u001bc{\"segmentation\": {\"max_time\": \"day\", \"time_gap\": 24, \"loc_change\": \"location_name\"}, \"retrieval\": {\"search query\": \"Guinness pints consumed\", \"K\": 100}, \"extraction\": {\"metadata\": [\"semantic_location\"], \"needs Visual Question Answering\": false, \"needs OCR\": false}, \"answering\": {\"expected answer type\": null}}\n\u001bc{\"segmentation\": {\"max_time\": \"day\", \"time_gap\": 24, \"loc_change\": \"location_name\"}, \"retrieval\": {\"search query\": \"Guinness pints consumed\", \"K\": 100}, \"extraction\": {\"metadata\": [\"semantic_location\"], \"needs Visual Question Answering\": false, \"needs OCR\": false}, \"answering\": {\"expected answer type\": null}}\n\u001bc{\"segmentation\": {\"max_time\": \"day\", \"time_gap\": 24, \"loc_change\": \"location_name\"}, \"retrieval\": {\"search query\": \"Guinness pints consumed\", \"K\": 100}, \"extraction\": {\"metadata\": [\"semantic_location\"], \"needs Visual Question Answering\": false, \"needs OCR\": false}, \"answering\": {\"expected answer type\": \"\"}}\n\u001bc{\"segmentation\": {\"max_time\": \"day\", \"time_gap\": 24, \"loc_change\": \"location_name\"}, \"retrieval\": {\"search query\": \"Guinness pints consumed\", \"K\": 100}, \"extraction\": {\"metadata\": [\"semantic_location\"], \"needs Visual Question Answering\": false, \"needs OCR\": false}, \"answering\": {\"expected answer type\": \"numeric\"}}\n\u001bc{\"segmentation\": {\"max_time\": \"day\", \"time_gap\": 24, \"loc_change\": \"location_name\"}, \"retrieval\": {\"search query\": \"Guinness pints consumed\", \"K\": 100}, \"extraction\": {\"metadata\": [\"semantic_location\"], \"needs Visual Question Answering\": false, \"needs OCR\": false}, \"answering\": {\"expected answer type\": \"numeric\"}}\n\u001bc{\"segmentation\": {\"max_time\": \"day\", \"time_gap\": 24, \"loc_change\": \"location_name\"}, \"retrieval\": {\"search query\": \"Guinness pints consumed\", \"K\": 100}, \"extraction\": {\"metadata\": [\"semantic_location\"], \"needs Visual Question Answering\": false, \"needs OCR\": false}, \"answering\": {\"expected answer type\": \"numeric\"}}\n\u001bc{\"segmentation\": {\"max_time\": \"day\", \"time_gap\": 24, \"loc_change\": \"location_name\"}, \"retrieval\": {\"search query\": \"Guinness pints consumed\", \"K\": 100}, \"extraction\": {\"metadata\": [\"semantic_location\"], \"needs Visual Question Answering\": false, \"needs OCR\": false}, \"answering\": {\"expected answer type\": \"numeric\", \"\": null}}\n\u001bc{\"segmentation\": {\"max_time\": \"day\", \"time_gap\": 24, \"loc_change\": \"location_name\"}, \"retrieval\": {\"search query\": \"Guinness pints consumed\", \"K\": 100}, \"extraction\": {\"metadata\": [\"semantic_location\"], \"needs Visual Question Answering\": false, \"needs OCR\": false}, \"answering\": {\"expected answer type\": \"numeric\", \"possible\": null}}\n\u001bc{\"segmentation\": {\"max_time\": \"day\", \"time_gap\": 24, \"loc_change\": \"location_name\"}, \"retrieval\": {\"search query\": \"Guinness pints consumed\", \"K\": 100}, \"extraction\": {\"metadata\": [\"semantic_location\"], \"needs Visual Question Answering\": false, \"needs OCR\": false}, \"answering\": {\"expected answer type\": \"numeric\", \"possible answers\": null}}\n\u001bc{\"segmentation\": {\"max_time\": \"day\", \"time_gap\": 24, \"loc_change\": \"location_name\"}, \"retrieval\": {\"search query\": \"Guinness pints consumed\", \"K\": 100}, \"extraction\": {\"metadata\": [\"semantic_location\"], \"needs Visual Question Answering\": false, \"needs OCR\": false}, \"answering\": {\"expected answer type\": \"numeric\", \"possible answers\": null}}\n\u001bc{\"segmentation\": {\"max_time\": \"day\", \"time_gap\": 24, \"loc_change\": \"location_name\"}, \"retrieval\": {\"search query\": \"Guinness pints consumed\", \"K\": 100}, \"extraction\": {\"metadata\": [\"semantic_location\"], \"needs Visual Question Answering\": false, \"needs OCR\": false}, \"answering\": {\"expected answer type\": \"numeric\", \"possible answers\": []}}\n\u001bc{\"segmentation\": {\"max_time\": \"day\", \"time_gap\": 24, \"loc_change\": \"location_name\"}, \"retrieval\": {\"search query\": \"Guinness pints consumed\", \"K\": 100}, \"extraction\": {\"metadata\": [\"semantic_location\"], \"needs Visual Question Answering\": false, \"needs OCR\": false}, \"answering\": {\"expected answer type\": \"numeric\", \"possible answers\": []}}\n\u001bc{\"segmentation\": {\"max_time\": \"day\", \"time_gap\": 24, \"loc_change\": \"location_name\"}, \"retrieval\": {\"search query\": \"Guinness pints consumed\", \"K\": 100}, \"extraction\": {\"metadata\": [\"semantic_location\"], \"needs Visual Question Answering\": false, \"needs OCR\": false}, \"answering\": {\"expected answer type\": \"numeric\", \"possible answers\": []}}\n\u001bc{\"segmentation\": {\"max_time\": \"day\", \"time_gap\": 24, \"loc_change\": \"location_name\"}, \"retrieval\": {\"search query\": \"Guinness pints consumed\", \"K\": 100}, \"extraction\": {\"metadata\": [\"semantic_location\"], \"needs Visual Question Answering\": false, \"needs OCR\": false}, \"answering\": {\"expected answer type\": \"numeric\", \"possible answers\": []}}\n\u001bc{\"segmentation\": {\"max_time\": \"day\", \"time_gap\": 24, \"loc_change\": \"location_name\"}, \"retrieval\": {\"search query\": \"Guinness pints consumed\", \"K\": 100}, \"extraction\": {\"metadata\": [\"semantic_location\"], \"needs Visual Question Answering\": false, \"needs OCR\": false}, \"answering\": {\"expected answer type\": \"numeric\", \"possible answers\": []}, \"\": null}\n\u001bc{\"segmentation\": {\"max_time\": \"day\", \"time_gap\": 24, \"loc_change\": \"location_name\"}, \"retrieval\": {\"search query\": \"Guinness pints consumed\", \"K\": 100}, \"extraction\": {\"metadata\": [\"semantic_location\"], \"needs Visual Question Answering\": false, \"needs OCR\": false}, \"answering\": {\"expected answer type\": \"numeric\", \"possible answers\": []}, \"post\": null}\n\u001bc{\"segmentation\": {\"max_time\": \"day\", \"time_gap\": 24, \"loc_change\": \"location_name\"}, \"retrieval\": {\"search query\": \"Guinness pints consumed\", \"K\": 100}, \"extraction\": {\"metadata\": [\"semantic_location\"], \"needs Visual Question Answering\": false, \"needs OCR\": false}, \"answering\": {\"expected answer type\": \"numeric\", \"possible answers\": []}, \"post-processing\": null}\n\u001bc{\"segmentation\": {\"max_time\": \"day\", \"time_gap\": 24, \"loc_change\": \"location_name\"}, \"retrieval\": {\"search query\": \"Guinness pints consumed\", \"K\": 100}, \"extraction\": {\"metadata\": [\"semantic_location\"], \"needs Visual Question Answering\": false, \"needs OCR\": false}, \"answering\": {\"expected answer type\": \"numeric\", \"possible answers\": []}, \"post-processing\": null}\n\u001bc{\"segmentation\": {\"max_time\": \"day\", \"time_gap\": 24, \"loc_change\": \"location_name\"}, \"retrieval\": {\"search query\": \"Guinness pints consumed\", \"K\": 100}, \"extraction\": {\"metadata\": [\"semantic_location\"], \"needs Visual Question Answering\": false, \"needs OCR\": false}, \"answering\": {\"expected answer type\": \"numeric\", \"possible answers\": []}, \"post-processing\": {}}\n\u001bc{\"segmentation\": {\"max_time\": \"day\", \"time_gap\": 24, \"loc_change\": \"location_name\"}, \"retrieval\": {\"search query\": \"Guinness pints consumed\", \"K\": 100}, \"extraction\": {\"metadata\": [\"semantic_location\"], \"needs Visual Question Answering\": false, \"needs OCR\": false}, \"answering\": {\"expected answer type\": \"numeric\", \"possible answers\": []}, \"post-processing\": {}}\n\u001bc{\"segmentation\": {\"max_time\": \"day\", \"time_gap\": 24, \"loc_change\": \"location_name\"}, \"retrieval\": {\"search query\": \"Guinness pints consumed\", \"K\": 100}, \"extraction\": {\"metadata\": [\"semantic_location\"], \"needs Visual Question Answering\": false, \"needs OCR\": false}, \"answering\": {\"expected answer type\": \"numeric\", \"possible answers\": []}, \"post-processing\": {\"\": null}}\n\u001bc{\"segmentation\": {\"max_time\": \"day\", \"time_gap\": 24, \"loc_change\": \"location_name\"}, \"retrieval\": {\"search query\": \"Guinness pints consumed\", \"K\": 100}, \"extraction\": {\"metadata\": [\"semantic_location\"], \"needs Visual Question Answering\": false, \"needs OCR\": false}, \"answering\": {\"expected answer type\": \"numeric\", \"possible answers\": []}, \"post-processing\": {\"group\": null}}\n\u001bc{\"segmentation\": {\"max_time\": \"day\", \"time_gap\": 24, \"loc_change\": \"location_name\"}, \"retrieval\": {\"search query\": \"Guinness pints consumed\", \"K\": 100}, \"extraction\": {\"metadata\": [\"semantic_location\"], \"needs Visual Question Answering\": false, \"needs OCR\": false}, \"answering\": {\"expected answer type\": \"numeric\", \"possible answers\": []}, \"post-processing\": {\"group\": null}}\n\u001bc{\"segmentation\": {\"max_time\": \"day\", \"time_gap\": 24, \"loc_change\": \"location_name\"}, \"retrieval\": {\"search query\": \"Guinness pints consumed\", \"K\": 100}, \"extraction\": {\"metadata\": [\"semantic_location\"], \"needs Visual Question Answering\": false, \"needs OCR\": false}, \"answering\": {\"expected answer type\": \"numeric\", \"possible answers\": []}, \"post-processing\": {\"group\": \"\"}}\n\u001bc{\"segmentation\": {\"max_time\": \"day\", \"time_gap\": 24, \"loc_change\": \"location_name\"}, \"retrieval\": {\"search query\": \"Guinness pints consumed\", \"K\": 100}, \"extraction\": {\"metadata\": [\"semantic_location\"], \"needs Visual Question Answering\": false, \"needs OCR\": false}, \"answering\": {\"expected answer type\": \"numeric\", \"possible answers\": []}, \"post-processing\": {\"group\": \"answer\"}}\n\u001bc{\"segmentation\": {\"max_time\": \"day\", \"time_gap\": 24, \"loc_change\": \"location_name\"}, \"retrieval\": {\"search query\": \"Guinness pints consumed\", \"K\": 100}, \"extraction\": {\"metadata\": [\"semantic_location\"], \"needs Visual Question Answering\": false, \"needs OCR\": false}, \"answering\": {\"expected answer type\": \"numeric\", \"possible answers\": []}, \"post-processing\": {\"group\": \"answer\"}}\n\u001bc{\"segmentation\": {\"max_time\": \"day\", \"time_gap\": 24, \"loc_change\": \"location_name\"}, \"retrieval\": {\"search query\": \"Guinness pints consumed\", \"K\": 100}, \"extraction\": {\"metadata\": [\"semantic_location\"], \"needs Visual Question Answering\": false, \"needs OCR\": false}, \"answering\": {\"expected answer type\": \"numeric\", \"possible answers\": []}, \"post-processing\": {\"group\": \"answer\"}}\n\u001bc{\"segmentation\": {\"max_time\": \"day\", \"time_gap\": 24, \"loc_change\": \"location_name\"}, \"retrieval\": {\"search query\": \"Guinness pints consumed\", \"K\": 100}, \"extraction\": {\"metadata\": [\"semantic_location\"], \"needs Visual Question Answering\": false, \"needs OCR\": false}, \"answering\": {\"expected answer type\": \"numeric\", \"possible answers\": []}, \"post-processing\": {\"group\": \"answer\", \"\": null}}\n\u001bc{\"segmentation\": {\"max_time\": \"day\", \"time_gap\": 24, \"loc_change\": \"location_name\"}, \"retrieval\": {\"search query\": \"Guinness pints consumed\", \"K\": 100}, \"extraction\": {\"metadata\": [\"semantic_location\"], \"needs Visual Question Answering\": false, \"needs OCR\": false}, \"answering\": {\"expected answer type\": \"numeric\", \"possible answers\": []}, \"post-processing\": {\"group\": \"answer\", \"sort\": null}}\n\u001bc{\"segmentation\": {\"max_time\": \"day\", \"time_gap\": 24, \"loc_change\": \"location_name\"}, \"retrieval\": {\"search query\": \"Guinness pints consumed\", \"K\": 100}, \"extraction\": {\"metadata\": [\"semantic_location\"], \"needs Visual Question Answering\": false, \"needs OCR\": false}, \"answering\": {\"expected answer type\": \"numeric\", \"possible answers\": []}, \"post-processing\": {\"group\": \"answer\", \"sort\": null}}\n\u001bc{\"segmentation\": {\"max_time\": \"day\", \"time_gap\": 24, \"loc_change\": \"location_name\"}, \"retrieval\": {\"search query\": \"Guinness pints consumed\", \"K\": 100}, \"extraction\": {\"metadata\": [\"semantic_location\"], \"needs Visual Question Answering\": false, \"needs OCR\": false}, \"answering\": {\"expected answer type\": \"numeric\", \"possible answers\": []}, \"post-processing\": {\"group\": \"answer\", \"sort\": \"\"}}\n\u001bc{\"segmentation\": {\"max_time\": \"day\", \"time_gap\": 24, \"loc_change\": \"location_name\"}, \"retrieval\": {\"search query\": \"Guinness pints consumed\", \"K\": 100}, \"extraction\": {\"metadata\": [\"semantic_location\"], \"needs Visual Question Answering\": false, \"needs OCR\": false}, \"answering\": {\"expected answer type\": \"numeric\", \"possible answers\": []}, \"post-processing\": {\"group\": \"answer\", \"sort\": \"most\"}}\n\u001bc{\"segmentation\": {\"max_time\": \"day\", \"time_gap\": 24, \"loc_change\": \"location_name\"}, \"retrieval\": {\"search query\": \"Guinness pints consumed\", \"K\": 100}, \"extraction\": {\"metadata\": [\"semantic_location\"], \"needs Visual Question Answering\": false, \"needs OCR\": false}, \"answering\": {\"expected answer type\": \"numeric\", \"possible answers\": []}, \"post-processing\": {\"group\": \"answer\", \"sort\": \"most_common\"}}\n\u001bc{\"segmentation\": {\"max_time\": \"day\", \"time_gap\": 24, \"loc_change\": \"location_name\"}, \"retrieval\": {\"search query\": \"Guinness pints consumed\", \"K\": 100}, \"extraction\": {\"metadata\": [\"semantic_location\"], \"needs Visual Question Answering\": false, \"needs OCR\": false}, \"answering\": {\"expected answer type\": \"numeric\", \"possible answers\": []}, \"post-processing\": {\"group\": \"answer\", \"sort\": \"most_common_answer\"}}\n\u001bc{\"segmentation\": {\"max_time\": \"day\", \"time_gap\": 24, \"loc_change\": \"location_name\"}, \"retrieval\": {\"search query\": \"Guinness pints consumed\", \"K\": 100}, \"extraction\": {\"metadata\": [\"semantic_location\"], \"needs Visual Question Answering\": false, \"needs OCR\": false}, \"answering\": {\"expected answer type\": \"numeric\", \"possible answers\": []}, \"post-processing\": {\"group\": \"answer\", \"sort\": \"most_common_answer\"}}\n\u001bc{\"segmentation\": {\"max_time\": \"day\", \"time_gap\": 24, \"loc_change\": \"location_name\"}, \"retrieval\": {\"search query\": \"Guinness pints consumed\", \"K\": 100}, \"extraction\": {\"metadata\": [\"semantic_location\"], \"needs Visual Question Answering\": false, \"needs OCR\": false}, \"answering\": {\"expected answer type\": \"numeric\", \"possible answers\": []}, \"post-processing\": {\"group\": \"answer\", \"sort\": \"most_common_answer\"}}\n\u001bc{\"segmentation\": {\"max_time\": \"day\", \"time_gap\": 24, \"loc_change\": \"location_name\"}, \"retrieval\": {\"search query\": \"Guinness pints consumed\", \"K\": 100}, \"extraction\": {\"metadata\": [\"semantic_location\"], \"needs Visual Question Answering\": false, \"needs OCR\": false}, \"answering\": {\"expected answer type\": \"numeric\", \"possible answers\": []}, \"post-processing\": {\"group\": \"answer\", \"sort\": \"most_common_answer\", \"\": null}}\n\u001bc{\"segmentation\": {\"max_time\": \"day\", \"time_gap\": 24, \"loc_change\": \"location_name\"}, \"retrieval\": {\"search query\": \"Guinness pints consumed\", \"K\": 100}, \"extraction\": {\"metadata\": [\"semantic_location\"], \"needs Visual Question Answering\": false, \"needs OCR\": false}, \"answering\": {\"expected answer type\": \"numeric\", \"possible answers\": []}, \"post-processing\": {\"group\": \"answer\", \"sort\": \"most_common_answer\", \"aggregate\": null}}\n\u001bc{\"segmentation\": {\"max_time\": \"day\", \"time_gap\": 24, \"loc_change\": \"location_name\"}, \"retrieval\": {\"search query\": \"Guinness pints consumed\", \"K\": 100}, \"extraction\": {\"metadata\": [\"semantic_location\"], \"needs Visual Question Answering\": false, \"needs OCR\": false}, \"answering\": {\"expected answer type\": \"numeric\", \"possible answers\": []}, \"post-processing\": {\"group\": \"answer\", \"sort\": \"most_common_answer\", \"aggregate\": null}}\n\u001bc{\"segmentation\": {\"max_time\": \"day\", \"time_gap\": 24, \"loc_change\": \"location_name\"}, \"retrieval\": {\"search query\": \"Guinness pints consumed\", \"K\": 100}, \"extraction\": {\"metadata\": [\"semantic_location\"], \"needs Visual Question Answering\": false, \"needs OCR\": false}, \"answering\": {\"expected answer type\": \"numeric\", \"possible answers\": []}, \"post-processing\": {\"group\": \"answer\", \"sort\": \"most_common_answer\", \"aggregate\": \"\"}}\n\u001bc{\"segmentation\": {\"max_time\": \"day\", \"time_gap\": 24, \"loc_change\": \"location_name\"}, \"retrieval\": {\"search query\": \"Guinness pints consumed\", \"K\": 100}, \"extraction\": {\"metadata\": [\"semantic_location\"], \"needs Visual Question Answering\": false, \"needs OCR\": false}, \"answering\": {\"expected answer type\": \"numeric\", \"possible answers\": []}, \"post-processing\": {\"group\": \"answer\", \"sort\": \"most_common_answer\", \"aggregate\": \"sum\"}}\n\u001bc{\"segmentation\": {\"max_time\": \"day\", \"time_gap\": 24, \"loc_change\": \"location_name\"}, \"retrieval\": {\"search query\": \"Guinness pints consumed\", \"K\": 100}, \"extraction\": {\"metadata\": [\"semantic_location\"], \"needs Visual Question Answering\": false, \"needs OCR\": false}, \"answering\": {\"expected answer type\": \"numeric\", \"possible answers\": []}, \"post-processing\": {\"group\": \"answer\", \"sort\": \"most_common_answer\", \"aggregate\": \"sum\"}}\n\u001bc{\"segmentation\": {\"max_time\": \"day\", \"time_gap\": 24, \"loc_change\": \"location_name\"}, \"retrieval\": {\"search query\": \"Guinness pints consumed\", \"K\": 100}, \"extraction\": {\"metadata\": [\"semantic_location\"], \"needs Visual Question Answering\": false, \"needs OCR\": false}, \"answering\": {\"expected answer type\": \"numeric\", \"possible answers\": []}, \"post-processing\": {\"group\": \"answer\", \"sort\": \"most_common_answer\", \"aggregate\": \"sum\"}}\n\u001bc{\"segmentation\": {\"max_time\": \"day\", \"time_gap\": 24, \"loc_change\": \"location_name\"}, \"retrieval\": {\"search query\": \"Guinness pints consumed\", \"K\": 100}, \"extraction\": {\"metadata\": [\"semantic_location\"], \"needs Visual Question Answering\": false, \"needs OCR\": false}, \"answering\": {\"expected answer type\": \"numeric\", \"possible answers\": []}, \"post-processing\": {\"group\": \"answer\", \"sort\": \"most_common_answer\", \"aggregate\": \"sum\"}}\n\u001bc{\"segmentation\": {\"max_time\": \"day\", \"time_gap\": 24, \"loc_change\": \"location_name\"}, \"retrieval\": {\"search query\": \"Guinness pints consumed\", \"K\": 100}, \"extraction\": {\"metadata\": [\"semantic_location\"], \"needs Visual Question Answering\": false, \"needs OCR\": false}, \"answering\": {\"expected answer type\": \"numeric\", \"possible answers\": []}, \"post-processing\": {\"group\": \"answer\", \"sort\": \"most_common_answer\", \"aggregate\": \"sum\"}}\nParsed JSON with extra tokens: {'text': '\\n{\\n    \"segmentation\": {\\n        \"max_time\": \"day\",\\n        \"time_gap\": 24,\\n        \"loc_change\": \"location_name\"\\n    },\\n    \"retrieval\": {\\n        \"search query\": \"Guinness pints consumed\",\\n        \"K\": 100\\n    },\\n    \"extraction\": {\\n        \"metadata\": [\"semantic_location\"],\\n        \"needs Visual Question Answering\": false,\\n        \"needs OCR\": false\\n    },\\n    \"answering\": {\\n        \"expected answer type\": \"numeric\",\\n        \"possible answers\": []\\n    },\\n    \"post-processing\": {\\n        \"group\": \"answer\",\\n        \"sort\": \"most_common_answer\",\\n        \"aggregate\": \"sum\"\\n    }\\n}\\n```', 'data': {'segmentation': {'max_time': 'day', 'time_gap': 24, 'loc_change': 'location_name'}, 'retrieval': {'search query': 'Guinness pints consumed', 'K': 100}, 'extraction': {'metadata': ['semantic_location'], 'needs Visual Question Answering': False, 'needs OCR': False}, 'answering': {'expected answer type': 'numeric', 'possible answers': []}, 'post-processing': {'group': 'answer', 'sort': 'most_common_answer', 'aggregate': 'sum'}}, 'reminding': '\\n```'}\n\u001bc{\"segmentation\": {\"max_time\": \"day\", \"time_gap\": 24, \"loc_change\": \"location_name\"}, \"retrieval\": {\"search query\": \"Guinness pints consumed\", \"K\": 100}, \"extraction\": {\"metadata\": [\"semantic_location\"], \"needs Visual Question Answering\": false, \"needs OCR\": false}, \"answering\": {\"expected answer type\": \"numeric\", \"possible answers\": []}, \"post-processing\": {\"group\": \"answer\", \"sort\": \"most_common_answer\", \"aggregate\": \"sum\"}}\n\n"
        }
      ],
      "execution_count": 1
    },
    {
      "cell_type": "markdown",
      "metadata": {
        "jukit_cell_id": "mabyKntgXt"
      },
      "source": [
        "# Let's try with ElasticSearch/current MySceal API\n",
        "We can use the MySceal API to get the data we need. This is a test to see if we can get the data we need from the API."
      ]
    },
    {
      "cell_type": "markdown",
      "metadata": {
        "jukit_cell_id": "R1XlacbsvN"
      },
      "source": [
        "## Let's reuse the MySceal API to retrieve the events now"
      ]
    },
    {
      "cell_type": "code",
      "metadata": {
        "jukit_cell_id": "L7AS55kBw4"
      },
      "source": [
        "# Define MySceal API endpoint\n",
        "MYSCEAL_ENDPOINT = os.environ.get(\"MYSCEAL_ENDPOINT\", \"\")\n",
        "\n",
        "\n",
        "class MyScealQueryObject(BaseModel):\n",
        "    current: str\n",
        "    before: Optional[str] = \"\"\n",
        "    beforewhen: Optional[str] = \"\"\n",
        "    after: Optional[str] = \"\"\n",
        "    afterwhen: Optional[str] = \"\"\n",
        "\n",
        "\n",
        "# MySceal can take a query and return top-K results\n",
        "class MyScealRequest(BaseModel):\n",
        "    query: MyScealQueryObject\n",
        "    gps_bounds: Optional[list[float]] = None\n",
        "    size: Optional[int] = 100\n",
        "    is_question: Optional[bool] = False\n",
        "    last_scroll_id: Optional[str] = None\n",
        "\n",
        "\n",
        "class MyScealImageResponse(BaseModel):\n",
        "    image: str\n",
        "    time: Union[str, int]\n",
        "    shown: bool\n",
        "\n",
        "\n",
        "class MyScealEventResponse(BaseModel):\n",
        "    images: List[MyScealImageResponse]\n",
        "\n",
        "\n",
        "def get_events_from_query(request: MyScealRequest) -> List[MyScealEventResponse]:\n",
        "    \"\"\"\n",
        "    Getting list of top-100 images based on a query\n",
        "    \"\"\"\n",
        "    PARAMS = {\n",
        "        \"query\": {\n",
        "            **request.query.__dict__,\n",
        "            \"isQuestion\": request.is_question,\n",
        "            \"info\": None,\n",
        "        },\n",
        "        \"gps_bounds\": None,\n",
        "        \"starting_from\": 0,\n",
        "        \"share_info\": False,\n",
        "        \"size\": request.size,\n",
        "    }\n",
        "\n",
        "    response = requests.post(\n",
        "        MYSCEAL_ENDPOINT + \"/images/\",\n",
        "        data=json.dumps(PARAMS),\n",
        "        headers={\"Content-Type\": \"application/json\"},\n",
        "    )\n",
        "    data = response.json()\n",
        "\n",
        "    events = [triplet[\"current\"] for triplet in data[\"results\"]]\n",
        "    events = [\n",
        "        MyScealEventResponse(\n",
        "            images=[\n",
        "                MyScealImageResponse(image=image[0], time=image[1], shown=image[2])\n",
        "                for image in event\n",
        "            ]\n",
        "        )\n",
        "        for event in events\n",
        "    ]\n",
        "    return events\n",
        "\n",
        "\n",
        "def get_more():\n",
        "    \"\"\"\n",
        "    Getting list of top-100 images based on a query\n",
        "    \"\"\"\n",
        "    PARAMS = {}\n",
        "    response = requests.post(\n",
        "        MYSCEAL_ENDPOINT + \"/more/\",\n",
        "        data=json.dumps(PARAMS),\n",
        "        headers={\"Content-Type\": \"application/json\"},\n",
        "    )\n",
        "    data = response.json()\n",
        "    events = [triplet[\"current\"] for triplet in data[\"results\"]]\n",
        "    events = [\n",
        "        MyScealEventResponse(\n",
        "            images=[\n",
        "                MyScealImageResponse(image=image[0], time=image[1], shown=image[2])\n",
        "                for image in event\n",
        "            ]\n",
        "        )\n",
        "        for event in events\n",
        "    ]\n",
        "    return events"
      ],
      "outputs": [],
      "execution_count": null
    },
    {
      "cell_type": "markdown",
      "metadata": {
        "jukit_cell_id": "rtdhmyjA4Q"
      },
      "source": [
        "### Test the MySceal API with a query\n",
        "Let's test the MySceal API with a query to see if we can get the data we need."
      ]
    },
    {
      "cell_type": "code",
      "metadata": {
        "jukit_cell_id": "kPtV73Cull"
      },
      "source": [
        "text_query = \"Guinness pints on St. Patrick's Day in 2019\"\n",
        "request = MyScealRequest(query=MyScealQueryObject(current=text_query))\n",
        "\n",
        "events = get_events_from_query(request)\n",
        "for event in events[:5]:\n",
        "    print(\"-\" * 30)\n",
        "    for image in event.images:\n",
        "        if image.image:\n",
        "            if image.shown:\n",
        "                color = \"bold green\"\n",
        "            else:\n",
        "                color = \"default\"\n",
        "            print(f\"[{color}]{image.image}[/{color}]\")\n",
        "print(\"Yay it works!\")"
      ],
      "outputs": [
        {
          "output_type": "stream",
          "name": "stdout",
          "text": "------------------------------\n\u001b[1;39m201903\u001b[0m\u001b[39m/\u001b[0m\u001b[1;39m17\u001b[0m\u001b[39m/20190317_172932_000.jpg\u001b[0m\n\u001b[1;39m201903\u001b[0m\u001b[39m/\u001b[0m\u001b[1;39m17\u001b[0m\u001b[39m/20190317_173140_000.jpg\u001b[0m\n\u001b[1;39m201903\u001b[0m\u001b[39m/\u001b[0m\u001b[1;39m17\u001b[0m\u001b[39m/20190317_173212_000.jpg\u001b[0m\n\u001b[1;39m201903\u001b[0m\u001b[39m/\u001b[0m\u001b[1;39m17\u001b[0m\u001b[39m/20190317_173257_000.jpg\u001b[0m\n\u001b[1;32m201903\u001b[0m\u001b[1;32m/\u001b[0m\u001b[1;32m17\u001b[0m\u001b[1;32m/20190317_173329_000.jpg\u001b[0m\n\u001b[1;39m201903\u001b[0m\u001b[39m/\u001b[0m\u001b[1;39m17\u001b[0m\u001b[39m/20190317_173401_000.jpg\u001b[0m\n------------------------------\n\u001b[1;39m201903\u001b[0m\u001b[39m/\u001b[0m\u001b[1;39m17\u001b[0m\u001b[39m/20190317_172756_000.jpg\u001b[0m\n\u001b[1;39m201903\u001b[0m\u001b[39m/\u001b[0m\u001b[1;39m17\u001b[0m\u001b[39m/20190317_172828_000.jpg\u001b[0m\n\u001b[1;32m201903\u001b[0m\u001b[1;32m/\u001b[0m\u001b[1;32m17\u001b[0m\u001b[1;32m/20190317_172900_000.jpg\u001b[0m\n------------------------------\n\u001b[1;39m201903\u001b[0m\u001b[39m/\u001b[0m\u001b[1;39m17\u001b[0m\u001b[39m/20190317_162627_000.jpg\u001b[0m\n\u001b[1;39m201903\u001b[0m\u001b[39m/\u001b[0m\u001b[1;39m17\u001b[0m\u001b[39m/20190317_163011_000.jpg\u001b[0m\n\u001b[1;32m201903\u001b[0m\u001b[1;32m/\u001b[0m\u001b[1;32m17\u001b[0m\u001b[1;32m/20190317_163043_000.jpg\u001b[0m\n\u001b[1;39m201903\u001b[0m\u001b[39m/\u001b[0m\u001b[1;39m17\u001b[0m\u001b[39m/20190317_165333_000.jpg\u001b[0m\n------------------------------\n\u001b[1;32m201903\u001b[0m\u001b[1;32m/\u001b[0m\u001b[1;32m17\u001b[0m\u001b[1;32m/20190317_173433_000.jpg\u001b[0m\n------------------------------\n\u001b[1;39m201903\u001b[0m\u001b[39m/\u001b[0m\u001b[1;39m17\u001b[0m\u001b[39m/20190317_050143_000.jpg\u001b[0m\n\u001b[1;39m201903\u001b[0m\u001b[39m/\u001b[0m\u001b[1;39m17\u001b[0m\u001b[39m/20190317_050215_000.jpg\u001b[0m\n\u001b[1;32m201903\u001b[0m\u001b[1;32m/\u001b[0m\u001b[1;32m17\u001b[0m\u001b[1;32m/20190317_050247_000.jpg\u001b[0m\n"
        }
      ],
      "execution_count": 2
    },
    {
      "cell_type": "markdown",
      "metadata": {
        "jukit_cell_id": "4DwnLP8heo"
      },
      "source": [
        "### Let's try to get some captions from the images\n",
        "This idea is inspired by\n",
        "[pan2023retrieving] Pan, Junting and Lin, Ziyi and Ge, Yuying and Zhu, Xiatian and Zhang, Renrui and Wang, Yi and Qiao, Yu and Li, Hongsheng \"Retrieving-to-Answer: Zero-Shot Video Question Answering with FrozenLarge Language Models\" (2023)\n",
        "\n",
        "The idea is to retrieve captions from an uncurated dataset instead of generating captions. This is a test to see if we can get the captions from the images.\n",
        "\n",
        "Let's try to see what dataset we can use for this."
      ]
    },
    {
      "cell_type": "code",
      "metadata": {
        "jukit_cell_id": "8wJk12RWwf"
      },
      "source": [
        "# Get datasets from HuggingFace\n",
        "wiki = load_dataset(\n",
        "    \"wikipedia\", \"20220301.en\"\n",
        ")  # this is 20.3GB in size and will take a while to download\n",
        "\n",
        "# Inspect the dataset\n",
        "print(wiki[\"train\"][0])\n",
        "\n",
        "# We are only interested in each sentence. Let's extract that.\n",
        "for i, example in enumerate(wiki[\"train\"]):\n",
        "    print(example[\"text\"])\n",
        "    if i > 5:\n",
        "        break\n",
        "\n",
        "# Let's extract the sentences and save them to a file, so we can use them later. Beware of the memory usage!\n",
        "with open(\"wiki_sentences.txt\", \"w\") as f:\n",
        "    for example in wiki[\"train\"]:\n",
        "        f.write(example[\"text\"] + \"\\n\")"
      ],
      "outputs": [
        {
          "output_type": "stream",
          "name": "stdout",
          "text": "\u001b[0;31m-----------------------------------------------\u001b[0m\n\u001b[0;31mFileNotFoundError\u001b[0mTraceback (most recent call last)\nCell \u001b[0;32mIn[30], line 2\u001b[0m\n\u001b[1;32m      1\u001b[0m \u001b[38;5;66;03m# Get datasets from HuggingFace\u001b[39;00m\n\u001b[0;32m----> 2\u001b[0m wiki \u001b[38;5;241m=\u001b[39m \u001b[43mload_dataset\u001b[49m\u001b[43m(\u001b[49m\u001b[38;5;124;43m\"\u001b[39;49m\u001b[38;5;124;43mwikipedia\u001b[39;49m\u001b[38;5;124;43m\"\u001b[39;49m\u001b[43m,\u001b[49m\u001b[43m \u001b[49m\u001b[38;5;124;43m\"\u001b[39;49m\u001b[38;5;124;43m20220301.aa\u001b[39;49m\u001b[38;5;124;43m\"\u001b[39;49m\u001b[43m)\u001b[49m\n\nFile \u001b[0;32m~/.conda/envs/dev/lib/python3.9/site-packages/datasets/load.py:2582\u001b[0m, in \u001b[0;36mload_dataset\u001b[0;34m(path, name, data_dir, data_files, split, cache_dir, features, download_config, download_mode, verification_mode, ignore_verifications, keep_in_memory, save_infos, revision, token, use_auth_token, task, streaming, num_proc, storage_options, trust_remote_code, **config_kwargs)\u001b[0m\n\u001b[1;32m   2579\u001b[0m try_from_hf_gcs \u001b[38;5;241m=\u001b[39m path \u001b[38;5;129;01mnot\u001b[39;00m \u001b[38;5;129;01min\u001b[39;00m _PACKAGED_DATASETS_MODULES\n\u001b[1;32m   2581\u001b[0m \u001b[38;5;66;03m# Download and prepare data\u001b[39;00m\n\u001b[0;32m-> 2582\u001b[0m \u001b[43mbuilder_instance\u001b[49m\u001b[38;5;241;43m.\u001b[39;49m\u001b[43mdownload_and_prepare\u001b[49m\u001b[43m(\u001b[49m\n\u001b[1;32m   2583\u001b[0m \u001b[43m    \u001b[49m\u001b[43mdownload_config\u001b[49m\u001b[38;5;241;43m=\u001b[39;49m\u001b[43mdownload_config\u001b[49m\u001b[43m,\u001b[49m\n\u001b[1;32m   2584\u001b[0m \u001b[43m    \u001b[49m\u001b[43mdownload_mode\u001b[49m\u001b[38;5;241;43m=\u001b[39;49m\u001b[43mdownload_mode\u001b[49m\u001b[43m,\u001b[49m\n\u001b[1;32m   2585\u001b[0m \u001b[43m    \u001b[49m\u001b[43mverification_mode\u001b[49m\u001b[38;5;241;43m=\u001b[39;49m\u001b[43mverification_mode\u001b[49m\u001b[43m,\u001b[49m\n\u001b[1;32m   2586\u001b[0m \u001b[43m    \u001b[49m\u001b[43mtry_from_hf_gcs\u001b[49m\u001b[38;5;241;43m=\u001b[39;49m\u001b[43mtry_from_hf_gcs\u001b[49m\u001b[43m,\u001b[49m\n\u001b[1;32m   2587\u001b[0m \u001b[43m    \u001b[49m\u001b[43mnum_proc\u001b[49m\u001b[38;5;241;43m=\u001b[39;49m\u001b[43mnum_proc\u001b[49m\u001b[43m,\u001b[49m\n\u001b[1;32m   2588\u001b[0m \u001b[43m    \u001b[49m\u001b[43mstorage_options\u001b[49m\u001b[38;5;241;43m=\u001b[39;49m\u001b[43mstorage_options\u001b[49m\u001b[43m,\u001b[49m\n\u001b[1;32m   2589\u001b[0m \u001b[43m\u001b[49m\u001b[43m)\u001b[49m\n\u001b[1;32m   2591\u001b[0m \u001b[38;5;66;03m# Build dataset for splits\u001b[39;00m\n\u001b[1;32m   2592\u001b[0m keep_in_memory \u001b[38;5;241m=\u001b[39m (\n\u001b[1;32m   2593\u001b[0m     keep_in_memory \u001b[38;5;28;01mif\u001b[39;00m keep_in_memory \u001b[38;5;129;01mis\u001b[39;00m \u001b[38;5;129;01mnot\u001b[39;00m \u001b[38;5;28;01mNone\u001b[39;00m \u001b[38;5;28;01melse\u001b[39;00m is_small_dataset(builder_instance\u001b[38;5;241m.\u001b[39minfo\u001b[38;5;241m.\u001b[39mdataset_size)\n\u001b[1;32m   2594\u001b[0m )\n\nFile \u001b[0;32m~/.conda/envs/dev/lib/python3.9/site-packages/datasets/builder.py:1005\u001b[0m, in \u001b[0;36mDatasetBuilder.download_and_prepare\u001b[0;34m(self, output_dir, download_config, download_mode, verification_mode, ignore_verifications, try_from_hf_gcs, dl_manager, base_path, use_auth_token, file_format, max_shard_size, num_proc, storage_options, **download_and_prepare_kwargs)\u001b[0m\n\u001b[1;32m   1003\u001b[0m     \u001b[38;5;28;01mif\u001b[39;00m num_proc \u001b[38;5;129;01mis\u001b[39;00m \u001b[38;5;129;01mnot\u001b[39;00m \u001b[38;5;28;01mNone\u001b[39;00m:\n\u001b[1;32m   1004\u001b[0m         prepare_split_kwargs[\u001b[38;5;124m\"\u001b[39m\u001b[38;5;124mnum_proc\u001b[39m\u001b[38;5;124m\"\u001b[39m] \u001b[38;5;241m=\u001b[39m num_proc\n\u001b[0;32m-> 1005\u001b[0m     \u001b[38;5;28;43mself\u001b[39;49m\u001b[38;5;241;43m.\u001b[39;49m\u001b[43m_download_and_prepare\u001b[49m\u001b[43m(\u001b[49m\n\u001b[1;32m   1006\u001b[0m \u001b[43m        \u001b[49m\u001b[43mdl_manager\u001b[49m\u001b[38;5;241;43m=\u001b[39;49m\u001b[43mdl_manager\u001b[49m\u001b[43m,\u001b[49m\n\u001b[1;32m   1007\u001b[0m \u001b[43m        \u001b[49m\u001b[43mverification_mode\u001b[49m\u001b[38;5;241;43m=\u001b[39;49m\u001b[43mverification_mode\u001b[49m\u001b[43m,\u001b[49m\n\u001b[1;32m   1008\u001b[0m \u001b[43m        \u001b[49m\u001b[38;5;241;43m*\u001b[39;49m\u001b[38;5;241;43m*\u001b[39;49m\u001b[43mprepare_split_kwargs\u001b[49m\u001b[43m,\u001b[49m\n\u001b[1;32m   1009\u001b[0m \u001b[43m        \u001b[49m\u001b[38;5;241;43m*\u001b[39;49m\u001b[38;5;241;43m*\u001b[39;49m\u001b[43mdownload_and_prepare_kwargs\u001b[49m\u001b[43m,\u001b[49m\n\u001b[1;32m   1010\u001b[0m \u001b[43m    \u001b[49m\u001b[43m)\u001b[49m\n\u001b[1;32m   1011\u001b[0m \u001b[38;5;66;03m# Sync info\u001b[39;00m\n\u001b[1;32m   1012\u001b[0m \u001b[38;5;28mself\u001b[39m\u001b[38;5;241m.\u001b[39minfo\u001b[38;5;241m.\u001b[39mdataset_size \u001b[38;5;241m=\u001b[39m \u001b[38;5;28msum\u001b[39m(split\u001b[38;5;241m.\u001b[39mnum_bytes \u001b[38;5;28;01mfor\u001b[39;00m split \u001b[38;5;129;01min\u001b[39;00m \u001b[38;5;28mself\u001b[39m\u001b[38;5;241m.\u001b[39minfo\u001b[38;5;241m.\u001b[39msplits\u001b[38;5;241m.\u001b[39mvalues())\n\nFile \u001b[0;32m~/.conda/envs/dev/lib/python3.9/site-packages/datasets/builder.py:1078\u001b[0m, in \u001b[0;36mDatasetBuilder._download_and_prepare\u001b[0;34m(self, dl_manager, verification_mode, **prepare_split_kwargs)\u001b[0m\n\u001b[1;32m   1076\u001b[0m split_dict \u001b[38;5;241m=\u001b[39m SplitDict(dataset_name\u001b[38;5;241m=\u001b[39m\u001b[38;5;28mself\u001b[39m\u001b[38;5;241m.\u001b[39mdataset_name)\n\u001b[1;32m   1077\u001b[0m split_generators_kwargs \u001b[38;5;241m=\u001b[39m \u001b[38;5;28mself\u001b[39m\u001b[38;5;241m.\u001b[39m_make_split_generators_kwargs(prepare_split_kwargs)\n\u001b[0;32m-> 1078\u001b[0m split_generators \u001b[38;5;241m=\u001b[39m \u001b[38;5;28;43mself\u001b[39;49m\u001b[38;5;241;43m.\u001b[39;49m\u001b[43m_split_generators\u001b[49m\u001b[43m(\u001b[49m\u001b[43mdl_manager\u001b[49m\u001b[43m,\u001b[49m\u001b[43m \u001b[49m\u001b[38;5;241;43m*\u001b[39;49m\u001b[38;5;241;43m*\u001b[39;49m\u001b[43msplit_generators_kwargs\u001b[49m\u001b[43m)\u001b[49m\n\u001b[1;32m   1080\u001b[0m \u001b[38;5;66;03m# Checksums verification\u001b[39;00m\n\u001b[1;32m   1081\u001b[0m \u001b[38;5;28;01mif\u001b[39;00m verification_mode \u001b[38;5;241m==\u001b[39m VerificationMode\u001b[38;5;241m.\u001b[39mALL_CHECKS \u001b[38;5;129;01mand\u001b[39;00m dl_manager\u001b[38;5;241m.\u001b[39mrecord_checksums:\n\nFile \u001b[0;32m~/.cache/huggingface/modules/datasets_modules/datasets/wikipedia/d41137e149b2ea90eead07e7e3f805119a8c22dd1d5b61651af8e3e3ee736001/wikipedia.py:973\u001b[0m, in \u001b[0;36mWikipedia._split_generators\u001b[0;34m(self, dl_manager)\u001b[0m\n\u001b[1;32m    971\u001b[0m info_url \u001b[38;5;241m=\u001b[39m _base_url(lang) \u001b[38;5;241m+\u001b[39m _INFO_FILE\n\u001b[1;32m    972\u001b[0m \u001b[38;5;66;03m# Use dictionary since testing mock always returns the same result.\u001b[39;00m\n\u001b[0;32m--> 973\u001b[0m downloaded_files \u001b[38;5;241m=\u001b[39m \u001b[43mdl_manager\u001b[49m\u001b[38;5;241;43m.\u001b[39;49m\u001b[43mdownload_and_extract\u001b[49m\u001b[43m(\u001b[49m\u001b[43m{\u001b[49m\u001b[38;5;124;43m\"\u001b[39;49m\u001b[38;5;124;43minfo\u001b[39;49m\u001b[38;5;124;43m\"\u001b[39;49m\u001b[43m:\u001b[49m\u001b[43m \u001b[49m\u001b[43minfo_url\u001b[49m\u001b[43m}\u001b[49m\u001b[43m)\u001b[49m\n\u001b[1;32m    975\u001b[0m xml_urls \u001b[38;5;241m=\u001b[39m []\n\u001b[1;32m    976\u001b[0m total_bytes \u001b[38;5;241m=\u001b[39m \u001b[38;5;241m0\u001b[39m\n\nFile \u001b[0;32m~/.conda/envs/dev/lib/python3.9/site-packages/datasets/download/download_manager.py:570\u001b[0m, in \u001b[0;36mDownloadManager.download_and_extract\u001b[0;34m(self, url_or_urls)\u001b[0m\n\u001b[1;32m    554\u001b[0m \u001b[38;5;28;01mdef\u001b[39;00m \u001b[38;5;21mdownload_and_extract\u001b[39m(\u001b[38;5;28mself\u001b[39m, url_or_urls):\n\u001b[1;32m    555\u001b[0m \u001b[38;5;250m    \u001b[39m\u001b[38;5;124;03m\"\"\"Download and extract given `url_or_urls`.\u001b[39;00m\n\u001b[1;32m    556\u001b[0m \n\u001b[1;32m    557\u001b[0m \u001b[38;5;124;03m    Is roughly equivalent to:\u001b[39;00m\n\u001b[0;32m   (...)\u001b[0m\n\u001b[1;32m    568\u001b[0m \u001b[38;5;124;03m        extracted_path(s): `str`, extracted paths of given URL(s).\u001b[39;00m\n\u001b[1;32m    569\u001b[0m \u001b[38;5;124;03m    \"\"\"\u001b[39;00m\n\u001b[0;32m--> 570\u001b[0m     \u001b[38;5;28;01mreturn\u001b[39;00m \u001b[38;5;28mself\u001b[39m\u001b[38;5;241m.\u001b[39mextract(\u001b[38;5;28;43mself\u001b[39;49m\u001b[38;5;241;43m.\u001b[39;49m\u001b[43mdownload\u001b[49m\u001b[43m(\u001b[49m\u001b[43murl_or_urls\u001b[49m\u001b[43m)\u001b[49m)\n\nFile \u001b[0;32m~/.conda/envs/dev/lib/python3.9/site-packages/datasets/download/download_manager.py:434\u001b[0m, in \u001b[0;36mDownloadManager.download\u001b[0;34m(self, url_or_urls)\u001b[0m\n\u001b[1;32m    432\u001b[0m start_time \u001b[38;5;241m=\u001b[39m datetime\u001b[38;5;241m.\u001b[39mnow()\n\u001b[1;32m    433\u001b[0m \u001b[38;5;28;01mwith\u001b[39;00m stack_multiprocessing_download_progress_bars():\n\u001b[0;32m--> 434\u001b[0m     downloaded_path_or_paths \u001b[38;5;241m=\u001b[39m \u001b[43mmap_nested\u001b[49m\u001b[43m(\u001b[49m\n\u001b[1;32m    435\u001b[0m \u001b[43m        \u001b[49m\u001b[43mdownload_func\u001b[49m\u001b[43m,\u001b[49m\n\u001b[1;32m    436\u001b[0m \u001b[43m        \u001b[49m\u001b[43murl_or_urls\u001b[49m\u001b[43m,\u001b[49m\n\u001b[1;32m    437\u001b[0m \u001b[43m        \u001b[49m\u001b[43mmap_tuple\u001b[49m\u001b[38;5;241;43m=\u001b[39;49m\u001b[38;5;28;43;01mTrue\u001b[39;49;00m\u001b[43m,\u001b[49m\n\u001b[1;32m    438\u001b[0m \u001b[43m        \u001b[49m\u001b[43mnum_proc\u001b[49m\u001b[38;5;241;43m=\u001b[39;49m\u001b[43mdownload_config\u001b[49m\u001b[38;5;241;43m.\u001b[39;49m\u001b[43mnum_proc\u001b[49m\u001b[43m,\u001b[49m\n\u001b[1;32m    439\u001b[0m \u001b[43m        \u001b[49m\u001b[43mdesc\u001b[49m\u001b[38;5;241;43m=\u001b[39;49m\u001b[38;5;124;43m\"\u001b[39;49m\u001b[38;5;124;43mDownloading data files\u001b[39;49m\u001b[38;5;124;43m\"\u001b[39;49m\u001b[43m,\u001b[49m\n\u001b[1;32m    440\u001b[0m \u001b[43m    \u001b[49m\u001b[43m)\u001b[49m\n\u001b[1;32m    441\u001b[0m duration \u001b[38;5;241m=\u001b[39m datetime\u001b[38;5;241m.\u001b[39mnow() \u001b[38;5;241m-\u001b[39m start_time\n\u001b[1;32m    442\u001b[0m logger\u001b[38;5;241m.\u001b[39minfo(\u001b[38;5;124mf\u001b[39m\u001b[38;5;124m\"\u001b[39m\u001b[38;5;124mDownloading took \u001b[39m\u001b[38;5;132;01m{\u001b[39;00mduration\u001b[38;5;241m.\u001b[39mtotal_seconds()\u001b[38;5;250m \u001b[39m\u001b[38;5;241m/\u001b[39m\u001b[38;5;241m/\u001b[39m\u001b[38;5;250m \u001b[39m\u001b[38;5;241m60\u001b[39m\u001b[38;5;132;01m}\u001b[39;00m\u001b[38;5;124m min\u001b[39m\u001b[38;5;124m\"\u001b[39m)\n\nFile \u001b[0;32m~/.conda/envs/dev/lib/python3.9/site-packages/datasets/utils/py_utils.py:475\u001b[0m, in \u001b[0;36mmap_nested\u001b[0;34m(function, data_struct, dict_only, map_list, map_tuple, map_numpy, num_proc, parallel_min_length, types, disable_tqdm, desc)\u001b[0m\n\u001b[1;32m    464\u001b[0m     mapped \u001b[38;5;241m=\u001b[39m [\n\u001b[1;32m    465\u001b[0m         map_nested(\n\u001b[1;32m    466\u001b[0m             function\u001b[38;5;241m=\u001b[39mfunction,\n\u001b[0;32m   (...)\u001b[0m\n\u001b[1;32m    472\u001b[0m         \u001b[38;5;28;01mfor\u001b[39;00m obj \u001b[38;5;129;01min\u001b[39;00m iterable\n\u001b[1;32m    473\u001b[0m     ]\n\u001b[1;32m    474\u001b[0m \u001b[38;5;28;01melif\u001b[39;00m num_proc \u001b[38;5;241m!=\u001b[39m \u001b[38;5;241m-\u001b[39m\u001b[38;5;241m1\u001b[39m \u001b[38;5;129;01mand\u001b[39;00m num_proc \u001b[38;5;241m<\u001b[39m\u001b[38;5;241m=\u001b[39m \u001b[38;5;241m1\u001b[39m \u001b[38;5;129;01mor\u001b[39;00m \u001b[38;5;28mlen\u001b[39m(iterable) \u001b[38;5;241m<\u001b[39m parallel_min_length:\n\u001b[0;32m--> 475\u001b[0m     mapped \u001b[38;5;241m=\u001b[39m [\n\u001b[1;32m    476\u001b[0m         _single_map_nested((function, obj, types, \u001b[38;5;28;01mNone\u001b[39;00m, \u001b[38;5;28;01mTrue\u001b[39;00m, \u001b[38;5;28;01mNone\u001b[39;00m))\n\u001b[1;32m    477\u001b[0m         \u001b[38;5;28;01mfor\u001b[39;00m obj \u001b[38;5;129;01min\u001b[39;00m hf_tqdm(iterable, disable\u001b[38;5;241m=\u001b[39mdisable_tqdm, desc\u001b[38;5;241m=\u001b[39mdesc)\n\u001b[1;32m    478\u001b[0m     ]\n\u001b[1;32m    479\u001b[0m \u001b[38;5;28;01melse\u001b[39;00m:\n\u001b[1;32m    480\u001b[0m     \u001b[38;5;28;01mwith\u001b[39;00m warnings\u001b[38;5;241m.\u001b[39mcatch_warnings():\n\nFile \u001b[0;32m~/.conda/envs/dev/lib/python3.9/site-packages/datasets/utils/py_utils.py:476\u001b[0m, in \u001b[0;36m<listcomp>\u001b[0;34m(.0)\u001b[0m\n\u001b[1;32m    464\u001b[0m     mapped \u001b[38;5;241m=\u001b[39m [\n\u001b[1;32m    465\u001b[0m         map_nested(\n\u001b[1;32m    466\u001b[0m             function\u001b[38;5;241m=\u001b[39mfunction,\n\u001b[0;32m   (...)\u001b[0m\n\u001b[1;32m    472\u001b[0m         \u001b[38;5;28;01mfor\u001b[39;00m obj \u001b[38;5;129;01min\u001b[39;00m iterable\n\u001b[1;32m    473\u001b[0m     ]\n\u001b[1;32m    474\u001b[0m \u001b[38;5;28;01melif\u001b[39;00m num_proc \u001b[38;5;241m!=\u001b[39m \u001b[38;5;241m-\u001b[39m\u001b[38;5;241m1\u001b[39m \u001b[38;5;129;01mand\u001b[39;00m num_proc \u001b[38;5;241m<\u001b[39m\u001b[38;5;241m=\u001b[39m \u001b[38;5;241m1\u001b[39m \u001b[38;5;129;01mor\u001b[39;00m \u001b[38;5;28mlen\u001b[39m(iterable) \u001b[38;5;241m<\u001b[39m parallel_min_length:\n\u001b[1;32m    475\u001b[0m     mapped \u001b[38;5;241m=\u001b[39m [\n\u001b[0;32m--> 476\u001b[0m         \u001b[43m_single_map_nested\u001b[49m\u001b[43m(\u001b[49m\u001b[43m(\u001b[49m\u001b[43mfunction\u001b[49m\u001b[43m,\u001b[49m\u001b[43m \u001b[49m\u001b[43mobj\u001b[49m\u001b[43m,\u001b[49m\u001b[43m \u001b[49m\u001b[43mtypes\u001b[49m\u001b[43m,\u001b[49m\u001b[43m \u001b[49m\u001b[38;5;28;43;01mNone\u001b[39;49;00m\u001b[43m,\u001b[49m\u001b[43m \u001b[49m\u001b[38;5;28;43;01mTrue\u001b[39;49;00m\u001b[43m,\u001b[49m\u001b[43m \u001b[49m\u001b[38;5;28;43;01mNone\u001b[39;49;00m\u001b[43m)\u001b[49m\u001b[43m)\u001b[49m\n\u001b[1;32m    477\u001b[0m         \u001b[38;5;28;01mfor\u001b[39;00m obj \u001b[38;5;129;01min\u001b[39;00m hf_tqdm(iterable, disable\u001b[38;5;241m=\u001b[39mdisable_tqdm, desc\u001b[38;5;241m=\u001b[39mdesc)\n\u001b[1;32m    478\u001b[0m     ]\n\u001b[1;32m    479\u001b[0m \u001b[38;5;28;01melse\u001b[39;00m:\n\u001b[1;32m    480\u001b[0m     \u001b[38;5;28;01mwith\u001b[39;00m warnings\u001b[38;5;241m.\u001b[39mcatch_warnings():\n\nFile \u001b[0;32m~/.conda/envs/dev/lib/python3.9/site-packages/datasets/utils/py_utils.py:368\u001b[0m, in \u001b[0;36m_single_map_nested\u001b[0;34m(args)\u001b[0m\n\u001b[1;32m    366\u001b[0m \u001b[38;5;66;03m# Singleton first to spare some computation\u001b[39;00m\n\u001b[1;32m    367\u001b[0m \u001b[38;5;28;01mif\u001b[39;00m \u001b[38;5;129;01mnot\u001b[39;00m \u001b[38;5;28misinstance\u001b[39m(data_struct, \u001b[38;5;28mdict\u001b[39m) \u001b[38;5;129;01mand\u001b[39;00m \u001b[38;5;129;01mnot\u001b[39;00m \u001b[38;5;28misinstance\u001b[39m(data_struct, types):\n\u001b[0;32m--> 368\u001b[0m     \u001b[38;5;28;01mreturn\u001b[39;00m \u001b[43mfunction\u001b[49m\u001b[43m(\u001b[49m\u001b[43mdata_struct\u001b[49m\u001b[43m)\u001b[49m\n\u001b[1;32m    370\u001b[0m \u001b[38;5;66;03m# Reduce logging to keep things readable in multiprocessing with tqdm\u001b[39;00m\n\u001b[1;32m    371\u001b[0m \u001b[38;5;28;01mif\u001b[39;00m rank \u001b[38;5;129;01mis\u001b[39;00m \u001b[38;5;129;01mnot\u001b[39;00m \u001b[38;5;28;01mNone\u001b[39;00m \u001b[38;5;129;01mand\u001b[39;00m logging\u001b[38;5;241m.\u001b[39mget_verbosity() \u001b[38;5;241m<\u001b[39m logging\u001b[38;5;241m.\u001b[39mWARNING:\n\nFile \u001b[0;32m~/.conda/envs/dev/lib/python3.9/site-packages/datasets/download/download_manager.py:459\u001b[0m, in \u001b[0;36mDownloadManager._download\u001b[0;34m(self, url_or_filename, download_config)\u001b[0m\n\u001b[1;32m    456\u001b[0m \u001b[38;5;28;01mif\u001b[39;00m is_relative_path(url_or_filename):\n\u001b[1;32m    457\u001b[0m     \u001b[38;5;66;03m# append the relative path to the base_path\u001b[39;00m\n\u001b[1;32m    458\u001b[0m     url_or_filename \u001b[38;5;241m=\u001b[39m url_or_path_join(\u001b[38;5;28mself\u001b[39m\u001b[38;5;241m.\u001b[39m_base_path, url_or_filename)\n\u001b[0;32m--> 459\u001b[0m out \u001b[38;5;241m=\u001b[39m \u001b[43mcached_path\u001b[49m\u001b[43m(\u001b[49m\u001b[43murl_or_filename\u001b[49m\u001b[43m,\u001b[49m\u001b[43m \u001b[49m\u001b[43mdownload_config\u001b[49m\u001b[38;5;241;43m=\u001b[39;49m\u001b[43mdownload_config\u001b[49m\u001b[43m)\u001b[49m\n\u001b[1;32m    460\u001b[0m out \u001b[38;5;241m=\u001b[39m tracked_str(out)\n\u001b[1;32m    461\u001b[0m out\u001b[38;5;241m.\u001b[39mset_origin(url_or_filename)\n\nFile \u001b[0;32m~/.conda/envs/dev/lib/python3.9/site-packages/datasets/utils/file_utils.py:190\u001b[0m, in \u001b[0;36mcached_path\u001b[0;34m(url_or_filename, download_config, **download_kwargs)\u001b[0m\n\u001b[1;32m    186\u001b[0m     url_or_filename \u001b[38;5;241m=\u001b[39m strip_protocol(url_or_filename)\n\u001b[1;32m    188\u001b[0m \u001b[38;5;28;01mif\u001b[39;00m is_remote_url(url_or_filename):\n\u001b[1;32m    189\u001b[0m     \u001b[38;5;66;03m# URL, so get it from the cache (downloading if necessary)\u001b[39;00m\n\u001b[0;32m--> 190\u001b[0m     output_path \u001b[38;5;241m=\u001b[39m \u001b[43mget_from_cache\u001b[49m\u001b[43m(\u001b[49m\n\u001b[1;32m    191\u001b[0m \u001b[43m        \u001b[49m\u001b[43murl_or_filename\u001b[49m\u001b[43m,\u001b[49m\n\u001b[1;32m    192\u001b[0m \u001b[43m        \u001b[49m\u001b[43mcache_dir\u001b[49m\u001b[38;5;241;43m=\u001b[39;49m\u001b[43mcache_dir\u001b[49m\u001b[43m,\u001b[49m\n\u001b[1;32m    193\u001b[0m \u001b[43m        \u001b[49m\u001b[43mforce_download\u001b[49m\u001b[38;5;241;43m=\u001b[39;49m\u001b[43mdownload_config\u001b[49m\u001b[38;5;241;43m.\u001b[39;49m\u001b[43mforce_download\u001b[49m\u001b[43m,\u001b[49m\n\u001b[1;32m    194\u001b[0m \u001b[43m        \u001b[49m\u001b[43mproxies\u001b[49m\u001b[38;5;241;43m=\u001b[39;49m\u001b[43mdownload_config\u001b[49m\u001b[38;5;241;43m.\u001b[39;49m\u001b[43mproxies\u001b[49m\u001b[43m,\u001b[49m\n\u001b[1;32m    195\u001b[0m \u001b[43m        \u001b[49m\u001b[43mresume_download\u001b[49m\u001b[38;5;241;43m=\u001b[39;49m\u001b[43mdownload_config\u001b[49m\u001b[38;5;241;43m.\u001b[39;49m\u001b[43mresume_download\u001b[49m\u001b[43m,\u001b[49m\n\u001b[1;32m    196\u001b[0m \u001b[43m        \u001b[49m\u001b[43muser_agent\u001b[49m\u001b[38;5;241;43m=\u001b[39;49m\u001b[43mdownload_config\u001b[49m\u001b[38;5;241;43m.\u001b[39;49m\u001b[43muser_agent\u001b[49m\u001b[43m,\u001b[49m\n\u001b[1;32m    197\u001b[0m \u001b[43m        \u001b[49m\u001b[43mlocal_files_only\u001b[49m\u001b[38;5;241;43m=\u001b[39;49m\u001b[43mdownload_config\u001b[49m\u001b[38;5;241;43m.\u001b[39;49m\u001b[43mlocal_files_only\u001b[49m\u001b[43m,\u001b[49m\n\u001b[1;32m    198\u001b[0m \u001b[43m        \u001b[49m\u001b[43muse_etag\u001b[49m\u001b[38;5;241;43m=\u001b[39;49m\u001b[43mdownload_config\u001b[49m\u001b[38;5;241;43m.\u001b[39;49m\u001b[43muse_etag\u001b[49m\u001b[43m,\u001b[49m\n\u001b[1;32m    199\u001b[0m \u001b[43m        \u001b[49m\u001b[43mmax_retries\u001b[49m\u001b[38;5;241;43m=\u001b[39;49m\u001b[43mdownload_config\u001b[49m\u001b[38;5;241;43m.\u001b[39;49m\u001b[43mmax_retries\u001b[49m\u001b[43m,\u001b[49m\n\u001b[1;32m    200\u001b[0m \u001b[43m        \u001b[49m\u001b[43mtoken\u001b[49m\u001b[38;5;241;43m=\u001b[39;49m\u001b[43mdownload_config\u001b[49m\u001b[38;5;241;43m.\u001b[39;49m\u001b[43mtoken\u001b[49m\u001b[43m,\u001b[49m\n\u001b[1;32m    201\u001b[0m \u001b[43m        \u001b[49m\u001b[43mignore_url_params\u001b[49m\u001b[38;5;241;43m=\u001b[39;49m\u001b[43mdownload_config\u001b[49m\u001b[38;5;241;43m.\u001b[39;49m\u001b[43mignore_url_params\u001b[49m\u001b[43m,\u001b[49m\n\u001b[1;32m    202\u001b[0m \u001b[43m        \u001b[49m\u001b[43mstorage_options\u001b[49m\u001b[38;5;241;43m=\u001b[39;49m\u001b[43mdownload_config\u001b[49m\u001b[38;5;241;43m.\u001b[39;49m\u001b[43mstorage_options\u001b[49m\u001b[43m,\u001b[49m\n\u001b[1;32m    203\u001b[0m \u001b[43m        \u001b[49m\u001b[43mdownload_desc\u001b[49m\u001b[38;5;241;43m=\u001b[39;49m\u001b[43mdownload_config\u001b[49m\u001b[38;5;241;43m.\u001b[39;49m\u001b[43mdownload_desc\u001b[49m\u001b[43m,\u001b[49m\n\u001b[1;32m    204\u001b[0m \u001b[43m    \u001b[49m\u001b[43m)\u001b[49m\n\u001b[1;32m    205\u001b[0m \u001b[38;5;28;01melif\u001b[39;00m os\u001b[38;5;241m.\u001b[39mpath\u001b[38;5;241m.\u001b[39mexists(url_or_filename):\n\u001b[1;32m    206\u001b[0m     \u001b[38;5;66;03m# File, and it exists.\u001b[39;00m\n\u001b[1;32m    207\u001b[0m     output_path \u001b[38;5;241m=\u001b[39m url_or_filename\n\nFile \u001b[0;32m~/.conda/envs/dev/lib/python3.9/site-packages/datasets/utils/file_utils.py:586\u001b[0m, in \u001b[0;36mget_from_cache\u001b[0;34m(url, cache_dir, force_download, proxies, etag_timeout, resume_download, user_agent, local_files_only, use_etag, max_retries, token, use_auth_token, ignore_url_params, storage_options, download_desc)\u001b[0m\n\u001b[1;32m    581\u001b[0m     \u001b[38;5;28;01mraise\u001b[39;00m \u001b[38;5;167;01mFileNotFoundError\u001b[39;00m(\n\u001b[1;32m    582\u001b[0m         \u001b[38;5;124mf\u001b[39m\u001b[38;5;124m\"\u001b[39m\u001b[38;5;124mCannot find the requested files in the cached path at \u001b[39m\u001b[38;5;132;01m{\u001b[39;00mcache_path\u001b[38;5;132;01m}\u001b[39;00m\u001b[38;5;124m and outgoing traffic has been\u001b[39m\u001b[38;5;124m\"\u001b[39m\n\u001b[1;32m    583\u001b[0m         \u001b[38;5;124m\"\u001b[39m\u001b[38;5;124m disabled. To enable file online look-ups, set \u001b[39m\u001b[38;5;124m'\u001b[39m\u001b[38;5;124mlocal_files_only\u001b[39m\u001b[38;5;124m'\u001b[39m\u001b[38;5;124m to False.\u001b[39m\u001b[38;5;124m\"\u001b[39m\n\u001b[1;32m    584\u001b[0m     )\n\u001b[1;32m    585\u001b[0m \u001b[38;5;28;01melif\u001b[39;00m response \u001b[38;5;129;01mis\u001b[39;00m \u001b[38;5;129;01mnot\u001b[39;00m \u001b[38;5;28;01mNone\u001b[39;00m \u001b[38;5;129;01mand\u001b[39;00m response\u001b[38;5;241m.\u001b[39mstatus_code \u001b[38;5;241m==\u001b[39m \u001b[38;5;241m404\u001b[39m:\n\u001b[0;32m--> 586\u001b[0m     \u001b[38;5;28;01mraise\u001b[39;00m \u001b[38;5;167;01mFileNotFoundError\u001b[39;00m(\u001b[38;5;124mf\u001b[39m\u001b[38;5;124m\"\u001b[39m\u001b[38;5;124mCouldn\u001b[39m\u001b[38;5;124m'\u001b[39m\u001b[38;5;124mt find file at \u001b[39m\u001b[38;5;132;01m{\u001b[39;00murl\u001b[38;5;132;01m}\u001b[39;00m\u001b[38;5;124m\"\u001b[39m)\n\u001b[1;32m    587\u001b[0m _raise_if_offline_mode_is_enabled(\u001b[38;5;124mf\u001b[39m\u001b[38;5;124m\"\u001b[39m\u001b[38;5;124mTried to reach \u001b[39m\u001b[38;5;132;01m{\u001b[39;00murl\u001b[38;5;132;01m}\u001b[39;00m\u001b[38;5;124m\"\u001b[39m)\n\u001b[1;32m    588\u001b[0m \u001b[38;5;28;01mif\u001b[39;00m head_error \u001b[38;5;129;01mis\u001b[39;00m \u001b[38;5;129;01mnot\u001b[39;00m \u001b[38;5;28;01mNone\u001b[39;00m:\n\n\u001b[0;31mFileNotFoundError\u001b[0m: Couldn't find file at https://dumps.wikimedia.org/aawiki/20220301/dumpstatus.json\n"
        }
      ],
      "execution_count": 3
    }
  ],
  "metadata": {
    "anaconda-cloud": {},
    "kernelspec": {
      "display_name": "python",
      "language": "python",
      "name": "python3"
    }
  },
  "nbformat": 4,
  "nbformat_minor": 4
}
