{
  "cells": [
    {
      "cell_type": "code",
      "metadata": {
        "jukit_cell_id": "ncdWWwxOEY"
      },
      "source": [
        "# auto-reload\n",
        "\n",
        "# %load_ext autoreload\n",
        "# %autoreload 2\n",
        "\n",
        "import asyncio\n",
        "import os\n",
        "from typing import List\n",
        "\n",
        "from dotenv import load_dotenv\n",
        "from openai import AsyncOpenAI\n",
        "from openai.types.chat import (ChatCompletionMessageParam,\n",
        "                               ChatCompletionSystemMessageParam,\n",
        "                               ChatCompletionUserMessageParam)"
      ],
      "outputs": [],
      "execution_count": null
    },
    {
      "cell_type": "code",
      "metadata": {
        "jukit_cell_id": "cE58yjx8NV"
      },
      "source": [
        "load_dotenv()\n",
        "\n",
        "# Set up ChatGPT generation model\n",
        "OPENAI_API=os.environ.get(\"OPENAI_API\", \"\")\n",
        "MODEL_NAME=os.environ.get(\"MODEL_NAME\", \"\")\n",
        "\n",
        "class LLM():\n",
        "    def __init__(self):\n",
        "        self.client = AsyncOpenAI(api_key=OPENAI_API)\n",
        "\n",
        "    async def generate(self, messages: List[ChatCompletionMessageParam]):\n",
        "        request = await self.client.chat.completions.create(\n",
        "            model=MODEL_NAME,\n",
        "            messages=messages,\n",
        "            stream=True) # type: ignore\n",
        "        async for chunk in request:\n",
        "            if chunk.choices[0].delta.content is not None:\n",
        "                yield chunk.choices[0].delta.content\n",
        "\n",
        "    def get_template_messages(self) -> List[ChatCompletionMessageParam]:\n",
        "        message = ChatCompletionSystemMessageParam(role=\"system\", content=\"You are a helpful assistant to help me answer questions in a lifelog dataset. I will give you information and the system constraints and you will suggest me how to do it.\")\n",
        "        return [message]"
      ],
      "outputs": [],
      "execution_count": null
    },
    {
      "cell_type": "code",
      "metadata": {
        "jukit_cell_id": "lJGUaxXoc6"
      },
      "source": [
        "# Test message\n",
        "model = LLM()\n",
        "\n",
        "async def generate(messages: List[ChatCompletionMessageParam]):\n",
        "    async for response in model.generate(messages):\n",
        "        print(response, end='')\n",
        "    return\n",
        "\n",
        "def get_recommendation(question: str):\n",
        "    prompt = \"\"\"I need to find the answer for this question using my lifelog retrieval system. In my system, a flow of processes is needed:\n",
        "1. Segmentation: this function takes two parameters: max_time, time_gap, and loc_change, where max_time is the maximum time for each segment, time_gap is the maximum time gap between two segments, and loc_change is the type of location change (semantic_location, city, country, continent). The function returns a list of segments, where each segment is a list of events.\n",
        "2. Retrieval: this function takes a list of segments and a question. It returns a list of events that are relevant to the question. The function takes the top-K events that are relevant to the question.\n",
        "3. Extraction: this function takes a list of events and a question. It returns the answer to the question. The function extracts the information from the events to answer the question.\n",
        "4. Answering: this function takes the answer and the question. It returns the answer to the question.\n",
        "5. Post-processing: re-organize the events (merge, split, or filter) and the answer to the question. Events with the same answers can be grouped together (if it makes sense).\n",
        "\n",
        "For example, if the question is \"What is my favourite airlines to fly with in 2019?\", this is what I'm looking for:\n",
        "- Segmentation: max_time=1 day, time_gap=1 day, loc_change=city\n",
        "- Retrieval: query=\"airlines name on boarding pass or brochure', K=50\n",
        "- Extraction: metadata=[\"start_city\", \"end_city\"]\n",
        "- Answering: needs Visual Question Answering=yes, needs OCR=yes, expected answer type=a name, possible answers=[\"Delta\", \"United\", \"American\", \"Southwest\", \"JetBlue\"], sort by time=no\n",
        "- Post-processing: sort=time, group=airlines\n",
        "\n",
        "Now, the question is \"{question}\". I need you to define these paramters:\n",
        "Please provide the following JSON structure:\n",
        "```\n",
        "{{\n",
        "    \"segmentation\": {{\n",
        "        \"max_time\": [a time unit in the following: \"year\", \"month\", \"week\", \"day\", \"hour\"],\n",
        "        \"time_gap\": [in hours],\n",
        "        \"loc_change\": [a location unit,  one of the following: \"country\", \"city\", \"location_name\", \"continent\"]\n",
        "    }},\n",
        "    \"retrieval\": {{\n",
        "        \"search query\": [a search query to find the events],\n",
        "        \"K\": [number of events to retrieve and extract answers from]\n",
        "    }},\n",
        "    \"extraction\": {{\n",
        "        \"metadata\": [a list of metadata to extract from each event, one of the following: \"start_time\", \"end_time\", \"semantic_location\", \"duration\", \"country\", \"city\", \"continent\" that might be useful to answer the question],\n",
        "        \"needs Visual Question Answering\": [true/false],\n",
        "        \"needs OCR\": [true/false],\n",
        "    }},\n",
        "    \"answering\": {{\n",
        "        \"expected answer type\": \"explanation of what the answer should look like\",\n",
        "        \"possible answers\": [a list of possible answers]\n",
        "        }},\n",
        "    \"post-processing\": {{\n",
        "        \"group\": [a way to group the events, one of the following: any time unit, any location unit, \"answer\"],\n",
        "        \"sort\": [a way to sort the events, one of the following: any time unit, any location_unit, \"most_common_answer\"]\n",
        "        }}\n",
        "}}\n",
        "No explanation is needed. Just provide the JSON structure.\n",
        "```\n",
        "    \"\"\"\n",
        "    prompt = prompt.format(question=question)\n",
        "    messages = model.get_template_messages()\n",
        "    messages.append(ChatCompletionUserMessageParam(role=\"user\", content=prompt))\n",
        "    asyncio.run(generate(messages))\n",
        "\n",
        "question = \"How many barbecues did I have in Summer 2019?\"\n",
        "question = \"How long did I spend in Paris in 2019?\"\n",
        "get_recommendation(question)"
      ],
      "outputs": [
        {
          "output_type": "stream",
          "name": "stdout",
          "text": "```json\n{\n    \"segmentation\": {\n        \"max_time\": \"month\",\n        \"time_gap\": 1,\n        \"loc_change\": \"city\"\n    },\n    \"retrieval\": {\n        \"search query\": \"visits to Paris in 2019\",\n        \"K\": 100\n    },\n    \"extraction\": {\n        \"metadata\": [\"start_time\", \"end_time\", \"city\"],\n        \"needs Visual Question Answering\": false,\n        \"needs OCR\": false\n    },\n    \"answering\": {\n        \"expected answer type\": \"a duration in days, hours, and minutes\",\n        \"possible answers\": []\n    },\n    \"post-processing\": {\n        \"group\": \"answer\",\n        \"sort\": \"time\"\n    }\n}\n```"
        }
      ],
      "execution_count": 1
    },
    {
      "cell_type": "code",
      "metadata": {
        "jukit_cell_id": "Ii8H62jprp"
      },
      "source": [],
      "outputs": [],
      "execution_count": null
    }
  ],
  "metadata": {
    "anaconda-cloud": {},
    "kernelspec": {
      "display_name": "python",
      "language": "python",
      "name": "python3"
    }
  },
  "nbformat": 4,
  "nbformat_minor": 4
}
